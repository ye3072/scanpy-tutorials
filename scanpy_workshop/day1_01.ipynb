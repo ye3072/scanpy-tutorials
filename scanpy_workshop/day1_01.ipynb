{
  "cells": [
    {
      "cell_type": "code",
      "source": [
        "!pip install scanpy anndata numpy scipy pandas matplotlib scrublet scanorama scanpy seaborn rpy2 anndata2ri"
      ],
      "metadata": {
        "id": "tNKEjg3T0s_q"
      },
      "execution_count": null,
      "outputs": []
    },
    {
      "cell_type": "code",
      "execution_count": 24,
      "metadata": {
        "id": "DkUcWf-U0GLZ"
      },
      "outputs": [],
      "source": [
        "import scanpy as sc\n",
        "import anndata as ann\n",
        "import numpy as np\n",
        "import scipy as sp\n",
        "import pandas as pd\n",
        "import matplotlib.pyplot as plt\n",
        "from matplotlib import rcParams\n",
        "from matplotlib import colors\n",
        "\n",
        "import os\n",
        "#doublet detection\n",
        "import scrublet as scr\n",
        "#batch correction (not installed by default in the docker container, install via command line: pip install scanorama bbknn)\n",
        "import scanorama as scan\n",
        "#external modules\n",
        "import scanpy.external as sce\n",
        "#pretty plotting\n",
        "import seaborn as sb\n",
        "\n",
        "#R interface\n",
        "import rpy2.rinterface_lib.callbacks\n",
        "import logging\n",
        "\n",
        "from rpy2.robjects import pandas2ri\n",
        "import anndata2ri\n"
      ]
    },
    {
      "cell_type": "code",
      "execution_count": 25,
      "metadata": {
        "id": "p9btjPYG0GLq",
        "outputId": "e30f5c4d-970c-47c2-e856-0a8adbc5e1be",
        "colab": {
          "base_uri": "https://localhost:8080/",
          "height": 558
        }
      },
      "outputs": [
        {
          "output_type": "stream",
          "name": "stderr",
          "text": [
            "<ipython-input-25-38ba41123b63>:6: DeprecationWarning: The global conversion available with activate() is deprecated and will be removed in the next major release. Use a local converter.\n",
            "  anndata2ri.activate()\n"
          ]
        },
        {
          "output_type": "error",
          "ename": "NotImplementedError",
          "evalue": "\n    Conversion rules for `rpy2.robjects` appear to be missing. Those\n    rules are in a Python `contextvars.ContextVar`. This could be caused\n    by multithreading code not passing context to the thread.\n    Check rpy2's documentation about conversions.\n    ",
          "traceback": [
            "\u001b[0;31m---------------------------------------------------------------------------\u001b[0m",
            "\u001b[0;31mNotImplementedError\u001b[0m                       Traceback (most recent call last)",
            "\u001b[0;32m<ipython-input-25-38ba41123b63>\u001b[0m in \u001b[0;36m<cell line: 7>\u001b[0;34m()\u001b[0m\n\u001b[1;32m      5\u001b[0m \u001b[0mpandas2ri\u001b[0m\u001b[0;34m.\u001b[0m\u001b[0mactivate\u001b[0m\u001b[0;34m(\u001b[0m\u001b[0;34m)\u001b[0m\u001b[0;34m\u001b[0m\u001b[0;34m\u001b[0m\u001b[0m\n\u001b[1;32m      6\u001b[0m \u001b[0manndata2ri\u001b[0m\u001b[0;34m.\u001b[0m\u001b[0mactivate\u001b[0m\u001b[0;34m(\u001b[0m\u001b[0;34m)\u001b[0m\u001b[0;34m\u001b[0m\u001b[0;34m\u001b[0m\u001b[0m\n\u001b[0;32m----> 7\u001b[0;31m \u001b[0mget_ipython\u001b[0m\u001b[0;34m(\u001b[0m\u001b[0;34m)\u001b[0m\u001b[0;34m.\u001b[0m\u001b[0mrun_line_magic\u001b[0m\u001b[0;34m(\u001b[0m\u001b[0;34m'load_ext'\u001b[0m\u001b[0;34m,\u001b[0m \u001b[0;34m'rpy2.ipython'\u001b[0m\u001b[0;34m)\u001b[0m\u001b[0;34m\u001b[0m\u001b[0;34m\u001b[0m\u001b[0m\n\u001b[0m\u001b[1;32m      8\u001b[0m \u001b[0mget_ipython\u001b[0m\u001b[0;34m(\u001b[0m\u001b[0;34m)\u001b[0m\u001b[0;34m.\u001b[0m\u001b[0mrun_line_magic\u001b[0m\u001b[0;34m(\u001b[0m\u001b[0;34m'load_ext'\u001b[0m\u001b[0;34m,\u001b[0m \u001b[0;34m'rpy2.ipython'\u001b[0m\u001b[0;34m)\u001b[0m\u001b[0;34m\u001b[0m\u001b[0;34m\u001b[0m\u001b[0m\n\u001b[1;32m      9\u001b[0m \u001b[0;34m\u001b[0m\u001b[0m\n",
            "\u001b[0;32m/usr/local/lib/python3.10/dist-packages/IPython/core/interactiveshell.py\u001b[0m in \u001b[0;36mrun_line_magic\u001b[0;34m(self, magic_name, line, _stack_depth)\u001b[0m\n\u001b[1;32m   2416\u001b[0m                 \u001b[0mkwargs\u001b[0m\u001b[0;34m[\u001b[0m\u001b[0;34m'local_ns'\u001b[0m\u001b[0;34m]\u001b[0m \u001b[0;34m=\u001b[0m \u001b[0mself\u001b[0m\u001b[0;34m.\u001b[0m\u001b[0mget_local_scope\u001b[0m\u001b[0;34m(\u001b[0m\u001b[0mstack_depth\u001b[0m\u001b[0;34m)\u001b[0m\u001b[0;34m\u001b[0m\u001b[0;34m\u001b[0m\u001b[0m\n\u001b[1;32m   2417\u001b[0m             \u001b[0;32mwith\u001b[0m \u001b[0mself\u001b[0m\u001b[0;34m.\u001b[0m\u001b[0mbuiltin_trap\u001b[0m\u001b[0;34m:\u001b[0m\u001b[0;34m\u001b[0m\u001b[0;34m\u001b[0m\u001b[0m\n\u001b[0;32m-> 2418\u001b[0;31m                 \u001b[0mresult\u001b[0m \u001b[0;34m=\u001b[0m \u001b[0mfn\u001b[0m\u001b[0;34m(\u001b[0m\u001b[0;34m*\u001b[0m\u001b[0margs\u001b[0m\u001b[0;34m,\u001b[0m \u001b[0;34m**\u001b[0m\u001b[0mkwargs\u001b[0m\u001b[0;34m)\u001b[0m\u001b[0;34m\u001b[0m\u001b[0;34m\u001b[0m\u001b[0m\n\u001b[0m\u001b[1;32m   2419\u001b[0m             \u001b[0;32mreturn\u001b[0m \u001b[0mresult\u001b[0m\u001b[0;34m\u001b[0m\u001b[0;34m\u001b[0m\u001b[0m\n\u001b[1;32m   2420\u001b[0m \u001b[0;34m\u001b[0m\u001b[0m\n",
            "\u001b[0;32m<decorator-gen-57>\u001b[0m in \u001b[0;36mload_ext\u001b[0;34m(self, module_str)\u001b[0m\n",
            "\u001b[0;32m/usr/local/lib/python3.10/dist-packages/IPython/core/magic.py\u001b[0m in \u001b[0;36m<lambda>\u001b[0;34m(f, *a, **k)\u001b[0m\n\u001b[1;32m    185\u001b[0m     \u001b[0;31m# but it's overkill for just that one bit of state.\u001b[0m\u001b[0;34m\u001b[0m\u001b[0;34m\u001b[0m\u001b[0m\n\u001b[1;32m    186\u001b[0m     \u001b[0;32mdef\u001b[0m \u001b[0mmagic_deco\u001b[0m\u001b[0;34m(\u001b[0m\u001b[0marg\u001b[0m\u001b[0;34m)\u001b[0m\u001b[0;34m:\u001b[0m\u001b[0;34m\u001b[0m\u001b[0;34m\u001b[0m\u001b[0m\n\u001b[0;32m--> 187\u001b[0;31m         \u001b[0mcall\u001b[0m \u001b[0;34m=\u001b[0m \u001b[0;32mlambda\u001b[0m \u001b[0mf\u001b[0m\u001b[0;34m,\u001b[0m \u001b[0;34m*\u001b[0m\u001b[0ma\u001b[0m\u001b[0;34m,\u001b[0m \u001b[0;34m**\u001b[0m\u001b[0mk\u001b[0m\u001b[0;34m:\u001b[0m \u001b[0mf\u001b[0m\u001b[0;34m(\u001b[0m\u001b[0;34m*\u001b[0m\u001b[0ma\u001b[0m\u001b[0;34m,\u001b[0m \u001b[0;34m**\u001b[0m\u001b[0mk\u001b[0m\u001b[0;34m)\u001b[0m\u001b[0;34m\u001b[0m\u001b[0;34m\u001b[0m\u001b[0m\n\u001b[0m\u001b[1;32m    188\u001b[0m \u001b[0;34m\u001b[0m\u001b[0m\n\u001b[1;32m    189\u001b[0m         \u001b[0;32mif\u001b[0m \u001b[0mcallable\u001b[0m\u001b[0;34m(\u001b[0m\u001b[0marg\u001b[0m\u001b[0;34m)\u001b[0m\u001b[0;34m:\u001b[0m\u001b[0;34m\u001b[0m\u001b[0;34m\u001b[0m\u001b[0m\n",
            "\u001b[0;32m/usr/local/lib/python3.10/dist-packages/IPython/core/magics/extension.py\u001b[0m in \u001b[0;36mload_ext\u001b[0;34m(self, module_str)\u001b[0m\n\u001b[1;32m     31\u001b[0m         \u001b[0;32mif\u001b[0m \u001b[0;32mnot\u001b[0m \u001b[0mmodule_str\u001b[0m\u001b[0;34m:\u001b[0m\u001b[0;34m\u001b[0m\u001b[0;34m\u001b[0m\u001b[0m\n\u001b[1;32m     32\u001b[0m             \u001b[0;32mraise\u001b[0m \u001b[0mUsageError\u001b[0m\u001b[0;34m(\u001b[0m\u001b[0;34m'Missing module name.'\u001b[0m\u001b[0;34m)\u001b[0m\u001b[0;34m\u001b[0m\u001b[0;34m\u001b[0m\u001b[0m\n\u001b[0;32m---> 33\u001b[0;31m         \u001b[0mres\u001b[0m \u001b[0;34m=\u001b[0m \u001b[0mself\u001b[0m\u001b[0;34m.\u001b[0m\u001b[0mshell\u001b[0m\u001b[0;34m.\u001b[0m\u001b[0mextension_manager\u001b[0m\u001b[0;34m.\u001b[0m\u001b[0mload_extension\u001b[0m\u001b[0;34m(\u001b[0m\u001b[0mmodule_str\u001b[0m\u001b[0;34m)\u001b[0m\u001b[0;34m\u001b[0m\u001b[0;34m\u001b[0m\u001b[0m\n\u001b[0m\u001b[1;32m     34\u001b[0m \u001b[0;34m\u001b[0m\u001b[0m\n\u001b[1;32m     35\u001b[0m         \u001b[0;32mif\u001b[0m \u001b[0mres\u001b[0m \u001b[0;34m==\u001b[0m \u001b[0;34m'already loaded'\u001b[0m\u001b[0;34m:\u001b[0m\u001b[0;34m\u001b[0m\u001b[0;34m\u001b[0m\u001b[0m\n",
            "\u001b[0;32m/usr/local/lib/python3.10/dist-packages/IPython/core/extensions.py\u001b[0m in \u001b[0;36mload_extension\u001b[0;34m(self, module_str)\u001b[0m\n\u001b[1;32m     78\u001b[0m             \u001b[0;32mif\u001b[0m \u001b[0mmodule_str\u001b[0m \u001b[0;32mnot\u001b[0m \u001b[0;32min\u001b[0m \u001b[0msys\u001b[0m\u001b[0;34m.\u001b[0m\u001b[0mmodules\u001b[0m\u001b[0;34m:\u001b[0m\u001b[0;34m\u001b[0m\u001b[0;34m\u001b[0m\u001b[0m\n\u001b[1;32m     79\u001b[0m                 \u001b[0;32mwith\u001b[0m \u001b[0mprepended_to_syspath\u001b[0m\u001b[0;34m(\u001b[0m\u001b[0mself\u001b[0m\u001b[0;34m.\u001b[0m\u001b[0mipython_extension_dir\u001b[0m\u001b[0;34m)\u001b[0m\u001b[0;34m:\u001b[0m\u001b[0;34m\u001b[0m\u001b[0;34m\u001b[0m\u001b[0m\n\u001b[0;32m---> 80\u001b[0;31m                     \u001b[0mmod\u001b[0m \u001b[0;34m=\u001b[0m \u001b[0mimport_module\u001b[0m\u001b[0;34m(\u001b[0m\u001b[0mmodule_str\u001b[0m\u001b[0;34m)\u001b[0m\u001b[0;34m\u001b[0m\u001b[0;34m\u001b[0m\u001b[0m\n\u001b[0m\u001b[1;32m     81\u001b[0m                     \u001b[0;32mif\u001b[0m \u001b[0mmod\u001b[0m\u001b[0;34m.\u001b[0m\u001b[0m__file__\u001b[0m\u001b[0;34m.\u001b[0m\u001b[0mstartswith\u001b[0m\u001b[0;34m(\u001b[0m\u001b[0mself\u001b[0m\u001b[0;34m.\u001b[0m\u001b[0mipython_extension_dir\u001b[0m\u001b[0;34m)\u001b[0m\u001b[0;34m:\u001b[0m\u001b[0;34m\u001b[0m\u001b[0;34m\u001b[0m\u001b[0m\n\u001b[1;32m     82\u001b[0m                         print((\"Loading extensions from {dir} is deprecated. \"\n",
            "\u001b[0;32m/usr/lib/python3.10/importlib/__init__.py\u001b[0m in \u001b[0;36mimport_module\u001b[0;34m(name, package)\u001b[0m\n\u001b[1;32m    124\u001b[0m                 \u001b[0;32mbreak\u001b[0m\u001b[0;34m\u001b[0m\u001b[0;34m\u001b[0m\u001b[0m\n\u001b[1;32m    125\u001b[0m             \u001b[0mlevel\u001b[0m \u001b[0;34m+=\u001b[0m \u001b[0;36m1\u001b[0m\u001b[0;34m\u001b[0m\u001b[0;34m\u001b[0m\u001b[0m\n\u001b[0;32m--> 126\u001b[0;31m     \u001b[0;32mreturn\u001b[0m \u001b[0m_bootstrap\u001b[0m\u001b[0;34m.\u001b[0m\u001b[0m_gcd_import\u001b[0m\u001b[0;34m(\u001b[0m\u001b[0mname\u001b[0m\u001b[0;34m[\u001b[0m\u001b[0mlevel\u001b[0m\u001b[0;34m:\u001b[0m\u001b[0;34m]\u001b[0m\u001b[0;34m,\u001b[0m \u001b[0mpackage\u001b[0m\u001b[0;34m,\u001b[0m \u001b[0mlevel\u001b[0m\u001b[0;34m)\u001b[0m\u001b[0;34m\u001b[0m\u001b[0;34m\u001b[0m\u001b[0m\n\u001b[0m\u001b[1;32m    127\u001b[0m \u001b[0;34m\u001b[0m\u001b[0m\n\u001b[1;32m    128\u001b[0m \u001b[0;34m\u001b[0m\u001b[0m\n",
            "\u001b[0;32m/usr/lib/python3.10/importlib/_bootstrap.py\u001b[0m in \u001b[0;36m_gcd_import\u001b[0;34m(name, package, level)\u001b[0m\n",
            "\u001b[0;32m/usr/lib/python3.10/importlib/_bootstrap.py\u001b[0m in \u001b[0;36m_find_and_load\u001b[0;34m(name, import_)\u001b[0m\n",
            "\u001b[0;32m/usr/lib/python3.10/importlib/_bootstrap.py\u001b[0m in \u001b[0;36m_find_and_load_unlocked\u001b[0;34m(name, import_)\u001b[0m\n",
            "\u001b[0;32m/usr/lib/python3.10/importlib/_bootstrap.py\u001b[0m in \u001b[0;36m_load_unlocked\u001b[0;34m(spec)\u001b[0m\n",
            "\u001b[0;32m/usr/lib/python3.10/importlib/_bootstrap_external.py\u001b[0m in \u001b[0;36mexec_module\u001b[0;34m(self, module)\u001b[0m\n",
            "\u001b[0;32m/usr/lib/python3.10/importlib/_bootstrap.py\u001b[0m in \u001b[0;36m_call_with_frames_removed\u001b[0;34m(f, *args, **kwds)\u001b[0m\n",
            "\u001b[0;32m/usr/local/lib/python3.10/dist-packages/rpy2/ipython/__init__.py\u001b[0m in \u001b[0;36m<module>\u001b[0;34m\u001b[0m\n\u001b[0;32m----> 1\u001b[0;31m \u001b[0;32mfrom\u001b[0m \u001b[0;34m.\u001b[0m \u001b[0;32mimport\u001b[0m \u001b[0mrmagic\u001b[0m\u001b[0;34m\u001b[0m\u001b[0;34m\u001b[0m\u001b[0m\n\u001b[0m\u001b[1;32m      2\u001b[0m \u001b[0;34m\u001b[0m\u001b[0m\n\u001b[1;32m      3\u001b[0m \u001b[0mload_ipython_extension\u001b[0m \u001b[0;34m=\u001b[0m \u001b[0mrmagic\u001b[0m\u001b[0;34m.\u001b[0m\u001b[0mload_ipython_extension\u001b[0m\u001b[0;34m\u001b[0m\u001b[0;34m\u001b[0m\u001b[0m\n",
            "\u001b[0;32m/usr/local/lib/python3.10/dist-packages/rpy2/ipython/rmagic.py\u001b[0m in \u001b[0;36m<module>\u001b[0;34m\u001b[0m\n\u001b[1;32m     59\u001b[0m \u001b[0;32mimport\u001b[0m \u001b[0mrpy2\u001b[0m\u001b[0;34m.\u001b[0m\u001b[0mrobjects\u001b[0m \u001b[0;32mas\u001b[0m \u001b[0mro\u001b[0m\u001b[0;34m\u001b[0m\u001b[0;34m\u001b[0m\u001b[0m\n\u001b[1;32m     60\u001b[0m \u001b[0;32mimport\u001b[0m \u001b[0mrpy2\u001b[0m\u001b[0;34m.\u001b[0m\u001b[0mrobjects\u001b[0m\u001b[0;34m.\u001b[0m\u001b[0mpackages\u001b[0m \u001b[0;32mas\u001b[0m \u001b[0mrpacks\u001b[0m\u001b[0;34m\u001b[0m\u001b[0;34m\u001b[0m\u001b[0m\n\u001b[0;32m---> 61\u001b[0;31m \u001b[0;32mfrom\u001b[0m \u001b[0mrpy2\u001b[0m\u001b[0;34m.\u001b[0m\u001b[0mrobjects\u001b[0m\u001b[0;34m.\u001b[0m\u001b[0mlib\u001b[0m \u001b[0;32mimport\u001b[0m \u001b[0mgrdevices\u001b[0m\u001b[0;34m\u001b[0m\u001b[0;34m\u001b[0m\u001b[0m\n\u001b[0m\u001b[1;32m     62\u001b[0m from rpy2.robjects.conversion import (Converter,\n\u001b[1;32m     63\u001b[0m                                       \u001b[0mlocalconverter\u001b[0m\u001b[0;34m,\u001b[0m\u001b[0;34m\u001b[0m\u001b[0;34m\u001b[0m\u001b[0m\n",
            "\u001b[0;32m/usr/local/lib/python3.10/dist-packages/rpy2/robjects/lib/grdevices.py\u001b[0m in \u001b[0;36m<module>\u001b[0;34m\u001b[0m\n\u001b[1;32m      9\u001b[0m \u001b[0;32mfrom\u001b[0m \u001b[0mrpy2\u001b[0m\u001b[0;34m.\u001b[0m\u001b[0mrobjects\u001b[0m\u001b[0;34m.\u001b[0m\u001b[0mpackages\u001b[0m \u001b[0;32mimport\u001b[0m \u001b[0mimportr\u001b[0m\u001b[0;34m,\u001b[0m \u001b[0mWeakPackage\u001b[0m\u001b[0;34m\u001b[0m\u001b[0;34m\u001b[0m\u001b[0m\n\u001b[1;32m     10\u001b[0m \u001b[0;34m\u001b[0m\u001b[0m\n\u001b[0;32m---> 11\u001b[0;31m \u001b[0mgrdevices\u001b[0m \u001b[0;34m=\u001b[0m \u001b[0mimportr\u001b[0m\u001b[0;34m(\u001b[0m\u001b[0;34m'grDevices'\u001b[0m\u001b[0;34m)\u001b[0m\u001b[0;34m\u001b[0m\u001b[0;34m\u001b[0m\u001b[0m\n\u001b[0m\u001b[1;32m     12\u001b[0m \u001b[0;34m\u001b[0m\u001b[0m\n\u001b[1;32m     13\u001b[0m grdevices = WeakPackage(grdevices._env,\n",
            "\u001b[0;32m/usr/local/lib/python3.10/dist-packages/rpy2/robjects/packages.py\u001b[0m in \u001b[0;36mimportr\u001b[0;34m(name, lib_loc, robject_translations, signature_translation, suppress_messages, on_conflict, symbol_r2python, symbol_resolve, data)\u001b[0m\n\u001b[1;32m    494\u001b[0m     \u001b[0mpack\u001b[0m\u001b[0;34m:\u001b[0m \u001b[0mtyping\u001b[0m\u001b[0;34m.\u001b[0m\u001b[0mUnion\u001b[0m\u001b[0;34m[\u001b[0m\u001b[0mInstalledSTPackage\u001b[0m\u001b[0;34m,\u001b[0m \u001b[0mInstalledPackage\u001b[0m\u001b[0;34m]\u001b[0m\u001b[0;34m\u001b[0m\u001b[0;34m\u001b[0m\u001b[0m\n\u001b[1;32m    495\u001b[0m     \u001b[0;32mif\u001b[0m \u001b[0msignature_translation\u001b[0m\u001b[0;34m:\u001b[0m\u001b[0;34m\u001b[0m\u001b[0;34m\u001b[0m\u001b[0m\n\u001b[0;32m--> 496\u001b[0;31m         pack = InstalledSTPackage(env, name,\n\u001b[0m\u001b[1;32m    497\u001b[0m                                   \u001b[0mtranslation\u001b[0m\u001b[0;34m=\u001b[0m\u001b[0mrobject_translations\u001b[0m\u001b[0;34m,\u001b[0m\u001b[0;34m\u001b[0m\u001b[0;34m\u001b[0m\u001b[0m\n\u001b[1;32m    498\u001b[0m                                   \u001b[0mexported_names\u001b[0m\u001b[0;34m=\u001b[0m\u001b[0mexported_names\u001b[0m\u001b[0;34m,\u001b[0m\u001b[0;34m\u001b[0m\u001b[0;34m\u001b[0m\u001b[0m\n",
            "\u001b[0;32m/usr/local/lib/python3.10/dist-packages/rpy2/robjects/packages.py\u001b[0m in \u001b[0;36m__init__\u001b[0;34m(self, env, name, translation, exported_names, on_conflict, version, symbol_r2python, symbol_resolve)\u001b[0m\n\u001b[1;32m    201\u001b[0m         \u001b[0mself\u001b[0m\u001b[0;34m.\u001b[0m\u001b[0m_symbol_r2python\u001b[0m \u001b[0;34m=\u001b[0m \u001b[0msymbol_r2python\u001b[0m\u001b[0;34m\u001b[0m\u001b[0;34m\u001b[0m\u001b[0m\n\u001b[1;32m    202\u001b[0m         \u001b[0mself\u001b[0m\u001b[0;34m.\u001b[0m\u001b[0m_symbol_resolve\u001b[0m \u001b[0;34m=\u001b[0m \u001b[0msymbol_resolve\u001b[0m\u001b[0;34m\u001b[0m\u001b[0;34m\u001b[0m\u001b[0m\n\u001b[0;32m--> 203\u001b[0;31m         \u001b[0mself\u001b[0m\u001b[0;34m.\u001b[0m\u001b[0m__fill_rpy2r__\u001b[0m\u001b[0;34m(\u001b[0m\u001b[0mon_conflict\u001b[0m\u001b[0;34m=\u001b[0m\u001b[0mon_conflict\u001b[0m\u001b[0;34m)\u001b[0m\u001b[0;34m\u001b[0m\u001b[0;34m\u001b[0m\u001b[0m\n\u001b[0m\u001b[1;32m    204\u001b[0m         \u001b[0mself\u001b[0m\u001b[0;34m.\u001b[0m\u001b[0m_exported_names\u001b[0m \u001b[0;34m=\u001b[0m \u001b[0mself\u001b[0m\u001b[0;34m.\u001b[0m\u001b[0m_exported_names\u001b[0m\u001b[0;34m.\u001b[0m\u001b[0mdifference\u001b[0m\u001b[0;34m(\u001b[0m\u001b[0mmynames\u001b[0m\u001b[0;34m)\u001b[0m\u001b[0;34m\u001b[0m\u001b[0;34m\u001b[0m\u001b[0m\n\u001b[1;32m    205\u001b[0m         \u001b[0mself\u001b[0m\u001b[0;34m.\u001b[0m\u001b[0m__version__\u001b[0m \u001b[0;34m=\u001b[0m \u001b[0mversion\u001b[0m\u001b[0;34m\u001b[0m\u001b[0;34m\u001b[0m\u001b[0m\n",
            "\u001b[0;32m/usr/local/lib/python3.10/dist-packages/rpy2/robjects/packages.py\u001b[0m in \u001b[0;36m__fill_rpy2r__\u001b[0;34m(self, on_conflict)\u001b[0m\n\u001b[1;32m    327\u001b[0m \u001b[0;34m\u001b[0m\u001b[0m\n\u001b[1;32m    328\u001b[0m     \u001b[0;32mdef\u001b[0m \u001b[0m__fill_rpy2r__\u001b[0m\u001b[0;34m(\u001b[0m\u001b[0mself\u001b[0m\u001b[0;34m,\u001b[0m \u001b[0mon_conflict\u001b[0m\u001b[0;34m=\u001b[0m\u001b[0;34m'fail'\u001b[0m\u001b[0;34m)\u001b[0m\u001b[0;34m:\u001b[0m\u001b[0;34m\u001b[0m\u001b[0;34m\u001b[0m\u001b[0m\n\u001b[0;32m--> 329\u001b[0;31m         (super(SignatureTranslatedPackage, self)\n\u001b[0m\u001b[1;32m    330\u001b[0m          .__fill_rpy2r__(on_conflict=on_conflict))\n\u001b[1;32m    331\u001b[0m         \u001b[0;32mfor\u001b[0m \u001b[0mname\u001b[0m\u001b[0;34m,\u001b[0m \u001b[0mrobj\u001b[0m \u001b[0;32min\u001b[0m \u001b[0mself\u001b[0m\u001b[0;34m.\u001b[0m\u001b[0m__dict__\u001b[0m\u001b[0;34m.\u001b[0m\u001b[0mitems\u001b[0m\u001b[0;34m(\u001b[0m\u001b[0;34m)\u001b[0m\u001b[0;34m:\u001b[0m\u001b[0;34m\u001b[0m\u001b[0;34m\u001b[0m\u001b[0m\n",
            "\u001b[0;32m/usr/local/lib/python3.10/dist-packages/rpy2/robjects/packages.py\u001b[0m in \u001b[0;36m__fill_rpy2r__\u001b[0;34m(self, on_conflict)\u001b[0m\n\u001b[1;32m    262\u001b[0m             \u001b[0;32mexcept\u001b[0m \u001b[0mrinterface\u001b[0m\u001b[0;34m.\u001b[0m\u001b[0membedded\u001b[0m\u001b[0;34m.\u001b[0m\u001b[0mRRuntimeError\u001b[0m \u001b[0;32mas\u001b[0m \u001b[0mrre\u001b[0m\u001b[0;34m:\u001b[0m\u001b[0;34m\u001b[0m\u001b[0;34m\u001b[0m\u001b[0m\n\u001b[1;32m    263\u001b[0m                 \u001b[0mwarn\u001b[0m\u001b[0;34m(\u001b[0m\u001b[0mstr\u001b[0m\u001b[0;34m(\u001b[0m\u001b[0mrre\u001b[0m\u001b[0;34m)\u001b[0m\u001b[0;34m)\u001b[0m\u001b[0;34m\u001b[0m\u001b[0;34m\u001b[0m\u001b[0m\n\u001b[0;32m--> 264\u001b[0;31m             \u001b[0mrpyobj\u001b[0m \u001b[0;34m=\u001b[0m \u001b[0mcv\u001b[0m\u001b[0;34m.\u001b[0m\u001b[0mrpy2py\u001b[0m\u001b[0;34m(\u001b[0m\u001b[0mriobj\u001b[0m\u001b[0;34m)\u001b[0m\u001b[0;34m\u001b[0m\u001b[0;34m\u001b[0m\u001b[0m\n\u001b[0m\u001b[1;32m    265\u001b[0m             \u001b[0;32mif\u001b[0m \u001b[0mhasattr\u001b[0m\u001b[0;34m(\u001b[0m\u001b[0mrpyobj\u001b[0m\u001b[0;34m,\u001b[0m \u001b[0;34m'__rname__'\u001b[0m\u001b[0;34m)\u001b[0m\u001b[0;34m:\u001b[0m\u001b[0;34m\u001b[0m\u001b[0;34m\u001b[0m\u001b[0m\n\u001b[1;32m    266\u001b[0m                 \u001b[0mrpyobj\u001b[0m\u001b[0;34m.\u001b[0m\u001b[0m__rname__\u001b[0m \u001b[0;34m=\u001b[0m \u001b[0mrname\u001b[0m\u001b[0;34m\u001b[0m\u001b[0;34m\u001b[0m\u001b[0m\n",
            "\u001b[0;32m/usr/lib/python3.10/functools.py\u001b[0m in \u001b[0;36mwrapper\u001b[0;34m(*args, **kw)\u001b[0m\n\u001b[1;32m    887\u001b[0m                             '1 positional argument')\n\u001b[1;32m    888\u001b[0m \u001b[0;34m\u001b[0m\u001b[0m\n\u001b[0;32m--> 889\u001b[0;31m         \u001b[0;32mreturn\u001b[0m \u001b[0mdispatch\u001b[0m\u001b[0;34m(\u001b[0m\u001b[0margs\u001b[0m\u001b[0;34m[\u001b[0m\u001b[0;36m0\u001b[0m\u001b[0;34m]\u001b[0m\u001b[0;34m.\u001b[0m\u001b[0m__class__\u001b[0m\u001b[0;34m)\u001b[0m\u001b[0;34m(\u001b[0m\u001b[0;34m*\u001b[0m\u001b[0margs\u001b[0m\u001b[0;34m,\u001b[0m \u001b[0;34m**\u001b[0m\u001b[0mkw\u001b[0m\u001b[0;34m)\u001b[0m\u001b[0;34m\u001b[0m\u001b[0;34m\u001b[0m\u001b[0m\n\u001b[0m\u001b[1;32m    890\u001b[0m \u001b[0;34m\u001b[0m\u001b[0m\n\u001b[1;32m    891\u001b[0m     \u001b[0mfuncname\u001b[0m \u001b[0;34m=\u001b[0m \u001b[0mgetattr\u001b[0m\u001b[0;34m(\u001b[0m\u001b[0mfunc\u001b[0m\u001b[0;34m,\u001b[0m \u001b[0;34m'__name__'\u001b[0m\u001b[0;34m,\u001b[0m \u001b[0;34m'singledispatch function'\u001b[0m\u001b[0;34m)\u001b[0m\u001b[0;34m\u001b[0m\u001b[0;34m\u001b[0m\u001b[0m\n",
            "\u001b[0;32m/usr/local/lib/python3.10/dist-packages/rpy2/robjects/conversion.py\u001b[0m in \u001b[0;36m_raise_missingconverter\u001b[0;34m(obj)\u001b[0m\n\u001b[1;32m    382\u001b[0m     \u001b[0mCheck\u001b[0m \u001b[0mrpy2\u001b[0m\u001b[0;31m'\u001b[0m\u001b[0ms\u001b[0m \u001b[0mdocumentation\u001b[0m \u001b[0mabout\u001b[0m \u001b[0mconversions\u001b[0m\u001b[0;34m.\u001b[0m\u001b[0;34m\u001b[0m\u001b[0;34m\u001b[0m\u001b[0m\n\u001b[1;32m    383\u001b[0m     \"\"\"\n\u001b[0;32m--> 384\u001b[0;31m     \u001b[0;32mraise\u001b[0m \u001b[0mNotImplementedError\u001b[0m\u001b[0;34m(\u001b[0m\u001b[0m_missingconverter_msg\u001b[0m\u001b[0;34m)\u001b[0m\u001b[0;34m\u001b[0m\u001b[0;34m\u001b[0m\u001b[0m\n\u001b[0m\u001b[1;32m    385\u001b[0m \u001b[0;34m\u001b[0m\u001b[0m\n\u001b[1;32m    386\u001b[0m \u001b[0;34m\u001b[0m\u001b[0m\n",
            "\u001b[0;31mNotImplementedError\u001b[0m: \n    Conversion rules for `rpy2.robjects` appear to be missing. Those\n    rules are in a Python `contextvars.ContextVar`. This could be caused\n    by multithreading code not passing context to the thread.\n    Check rpy2's documentation about conversions.\n    "
          ]
        }
      ],
      "source": [
        "#Note: this can be commented out to get more verbose R output\n",
        "rpy2.rinterface_lib.callbacks.logger.setLevel(logging.ERROR)\n",
        "\n",
        "# Automatically convert rpy2 outputs to pandas dataframes\n",
        "pandas2ri.activate()\n",
        "anndata2ri.activate()\n",
        "get_ipython().run_line_magic('load_ext', 'rpy2.ipython')\n",
        "%load_ext rpy2.ipython\n",
        "\n",
        "plt.rcParams['figure.figsize']=(8,8) #rescale figures\n",
        "sc.settings.verbosity = 3\n",
        "#sc.set_figure_params(dpi=200, dpi_save=300)\n",
        "sc.logging.print_versions()\n"
      ]
    },
    {
      "cell_type": "markdown",
      "metadata": {
        "id": "QVNtBGVN0GLt"
      },
      "source": [
        "Of note, this notebook was created as part of a workshop, so we use extra large legend texts in all seaborn plots. You can set the context as well to 'talk' or 'paper'."
      ]
    },
    {
      "cell_type": "code",
      "execution_count": 8,
      "metadata": {
        "id": "cwlePi_00GL6"
      },
      "outputs": [],
      "source": [
        "sb.set_context(context='poster')\n"
      ]
    },
    {
      "cell_type": "code",
      "execution_count": 9,
      "metadata": {
        "id": "G_eT3bp90GL7",
        "outputId": "071d4e11-318c-42c4-ba1c-7ef45fee0b2b",
        "colab": {
          "base_uri": "https://localhost:8080/",
          "height": 318
        }
      },
      "outputs": [
        {
          "output_type": "error",
          "ename": "UsageError",
          "evalue": "Cell magic `%%R` not found.",
          "traceback": [
            "\u001b[0;31m---------------------------------------------------------------------------\u001b[0m",
            "\u001b[0;31mUsageError\u001b[0m                                Traceback (most recent call last)",
            "\u001b[0;32m<ipython-input-9-36206fca403a>\u001b[0m in \u001b[0;36m<cell line: 1>\u001b[0;34m()\u001b[0m\n\u001b[0;32m----> 1\u001b[0;31m \u001b[0mget_ipython\u001b[0m\u001b[0;34m(\u001b[0m\u001b[0;34m)\u001b[0m\u001b[0;34m.\u001b[0m\u001b[0mrun_cell_magic\u001b[0m\u001b[0;34m(\u001b[0m\u001b[0;34m'R'\u001b[0m\u001b[0;34m,\u001b[0m \u001b[0;34m''\u001b[0m\u001b[0;34m,\u001b[0m \u001b[0;34m'# Load libraries from correct lib Paths for my environment - ignore this!\\n#.libPaths(.libPaths()[c(3,2,1)])\\n\\n# Load all the R libraries we will be using in the notebook\\nlibrary(scran)\\nlibrary(RColorBrewer)\\nlibrary(DropletUtils)\\n'\u001b[0m\u001b[0;34m)\u001b[0m\u001b[0;34m\u001b[0m\u001b[0;34m\u001b[0m\u001b[0m\n\u001b[0m",
            "\u001b[0;32m/usr/local/lib/python3.10/dist-packages/google/colab/_shell.py\u001b[0m in \u001b[0;36mrun_cell_magic\u001b[0;34m(self, magic_name, line, cell)\u001b[0m\n\u001b[1;32m    332\u001b[0m     \u001b[0;32mif\u001b[0m \u001b[0mline\u001b[0m \u001b[0;32mand\u001b[0m \u001b[0;32mnot\u001b[0m \u001b[0mcell\u001b[0m\u001b[0;34m:\u001b[0m\u001b[0;34m\u001b[0m\u001b[0;34m\u001b[0m\u001b[0m\n\u001b[1;32m    333\u001b[0m       \u001b[0mcell\u001b[0m \u001b[0;34m=\u001b[0m \u001b[0;34m' '\u001b[0m\u001b[0;34m\u001b[0m\u001b[0;34m\u001b[0m\u001b[0m\n\u001b[0;32m--> 334\u001b[0;31m     \u001b[0;32mreturn\u001b[0m \u001b[0msuper\u001b[0m\u001b[0;34m(\u001b[0m\u001b[0;34m)\u001b[0m\u001b[0;34m.\u001b[0m\u001b[0mrun_cell_magic\u001b[0m\u001b[0;34m(\u001b[0m\u001b[0mmagic_name\u001b[0m\u001b[0;34m,\u001b[0m \u001b[0mline\u001b[0m\u001b[0;34m,\u001b[0m \u001b[0mcell\u001b[0m\u001b[0;34m)\u001b[0m\u001b[0;34m\u001b[0m\u001b[0;34m\u001b[0m\u001b[0m\n\u001b[0m\u001b[1;32m    335\u001b[0m \u001b[0;34m\u001b[0m\u001b[0m\n\u001b[1;32m    336\u001b[0m \u001b[0;34m\u001b[0m\u001b[0m\n",
            "\u001b[0;32m/usr/local/lib/python3.10/dist-packages/IPython/core/interactiveshell.py\u001b[0m in \u001b[0;36mrun_cell_magic\u001b[0;34m(self, magic_name, line, cell)\u001b[0m\n\u001b[1;32m   2449\u001b[0m             extra = '' if lm is None else (' (But line magic `%{0}` exists, '\n\u001b[1;32m   2450\u001b[0m                             'did you mean that instead?)'.format(magic_name))\n\u001b[0;32m-> 2451\u001b[0;31m             \u001b[0;32mraise\u001b[0m \u001b[0mUsageError\u001b[0m\u001b[0;34m(\u001b[0m\u001b[0metpl\u001b[0m\u001b[0;34m.\u001b[0m\u001b[0mformat\u001b[0m\u001b[0;34m(\u001b[0m\u001b[0mmagic_name\u001b[0m\u001b[0;34m,\u001b[0m \u001b[0mextra\u001b[0m\u001b[0;34m)\u001b[0m\u001b[0;34m)\u001b[0m\u001b[0;34m\u001b[0m\u001b[0;34m\u001b[0m\u001b[0m\n\u001b[0m\u001b[1;32m   2452\u001b[0m         \u001b[0;32melif\u001b[0m \u001b[0mcell\u001b[0m \u001b[0;34m==\u001b[0m \u001b[0;34m''\u001b[0m\u001b[0;34m:\u001b[0m\u001b[0;34m\u001b[0m\u001b[0;34m\u001b[0m\u001b[0m\n\u001b[1;32m   2453\u001b[0m             \u001b[0mmessage\u001b[0m \u001b[0;34m=\u001b[0m \u001b[0;34m'%%{0} is a cell magic, but the cell body is empty.'\u001b[0m\u001b[0;34m.\u001b[0m\u001b[0mformat\u001b[0m\u001b[0;34m(\u001b[0m\u001b[0mmagic_name\u001b[0m\u001b[0;34m)\u001b[0m\u001b[0;34m\u001b[0m\u001b[0;34m\u001b[0m\u001b[0m\n",
            "\u001b[0;31mUsageError\u001b[0m: Cell magic `%%R` not found."
          ]
        }
      ],
      "source": [
        "%%R\n",
        "# Load libraries from correct lib Paths for my environment - ignore this!\n",
        "#.libPaths(.libPaths()[c(3,2,1)])\n",
        "\n",
        "# Load all the R libraries we will be using in the notebook\n",
        "library(scran)\n",
        "library(RColorBrewer)\n",
        "library(DropletUtils)\n"
      ]
    },
    {
      "cell_type": "markdown",
      "metadata": {
        "id": "Di90i_oC0GL_"
      },
      "source": [
        "## Set project file paths"
      ]
    },
    {
      "cell_type": "markdown",
      "metadata": {
        "id": "t8l0c_NV0GMA"
      },
      "source": [
        "We set up the file paths to the respective directories."
      ]
    },
    {
      "cell_type": "code",
      "execution_count": 10,
      "metadata": {
        "id": "oFpiJXz10GMD"
      },
      "outputs": [],
      "source": [
        "file_path = '/root/host_home/Documents/ICB/Teaching/2007_scanpy_HMGU/' #this is my file path please adapt it to your directory"
      ]
    },
    {
      "cell_type": "markdown",
      "metadata": {
        "id": "-HA-M1ww0GMF"
      },
      "source": [
        "File path to the raw data. They are usually stored at a different location than the rest of the project."
      ]
    },
    {
      "cell_type": "code",
      "execution_count": 11,
      "metadata": {
        "id": "vCR7L7Ej0GMG"
      },
      "outputs": [],
      "source": [
        "file_path_raw = file_path + '3k_PBMC/'"
      ]
    },
    {
      "cell_type": "markdown",
      "metadata": {
        "id": "TFNRAecG0GMH"
      },
      "source": [
        "The data directory contains all processed data and `anndata` files."
      ]
    },
    {
      "cell_type": "code",
      "execution_count": 12,
      "metadata": {
        "id": "_AybvKTK0GMJ"
      },
      "outputs": [],
      "source": [
        "data_dir = file_path + 'day1_beginner/data/'"
      ]
    },
    {
      "cell_type": "markdown",
      "metadata": {
        "id": "NsrNRCwK0GMK"
      },
      "source": [
        "The tables directory contains all tabular data output, e.g. in `.csv` or `.xls` file format. That applies to differential expression test results or overview tables such as the number of cells per cell type."
      ]
    },
    {
      "cell_type": "code",
      "execution_count": 13,
      "metadata": {
        "id": "YiOBtuTj0GML"
      },
      "outputs": [],
      "source": [
        "table_dir = file_path + 'day1_beginner/tables/'"
      ]
    },
    {
      "cell_type": "markdown",
      "metadata": {
        "id": "w3uKmvn90GMM"
      },
      "source": [
        "The default figure path is a POSIX path calles 'figures'. If you don't change the default figure directory, scanpy creates a subdirectory where this notebook is located.  "
      ]
    },
    {
      "cell_type": "code",
      "execution_count": 14,
      "metadata": {
        "id": "5ymxKy_K0GMM"
      },
      "outputs": [],
      "source": [
        "sc.settings.figdir = file_path + 'day1_beginner/figures/'"
      ]
    },
    {
      "cell_type": "markdown",
      "metadata": {
        "id": "0VFntDU20GMM"
      },
      "source": [
        "**Comment:** When you repeat certain analyses, it might be helpful to set a `date` variable and add it to every figure and table (see `datetime` Python package)."
      ]
    },
    {
      "cell_type": "markdown",
      "metadata": {
        "id": "LvrgR4cH0GMN"
      },
      "source": [
        "# Read data"
      ]
    },
    {
      "cell_type": "markdown",
      "metadata": {
        "id": "QmeK8GXI0GMN"
      },
      "source": [
        "The dataset consists of 4k PBMCs (Human) provided by 10X Genomics. The data is an mtx directory with an `mtx` file (*i.e.* count matrix), two `tsv` files with barcodes (*i.e.* cell indices) and features (*i.e.* gene symbols). `Scanpy` unpacks the files (if the files are in `gz` archive format) and creates an `anndata` object with the `read_10x_mtx` function.    \n",
        "\n",
        "The dataset is not filtered, yet."
      ]
    },
    {
      "cell_type": "code",
      "execution_count": 15,
      "metadata": {
        "id": "pbsqJIRt0GMO"
      },
      "outputs": [],
      "source": [
        "file_path_raw = file_path_raw + 'raw_gene_bc_matrices/'\n"
      ]
    },
    {
      "cell_type": "code",
      "execution_count": 17,
      "metadata": {
        "id": "U7QQKoD10GMP",
        "outputId": "38663f10-d3e2-4981-afcd-d8712b6bc5bb",
        "colab": {
          "base_uri": "https://localhost:8080/",
          "height": 318
        }
      },
      "outputs": [
        {
          "output_type": "error",
          "ename": "FileNotFoundError",
          "evalue": "Did not find file /root/host_home/Documents/ICB/Teaching/2007_scanpy_HMGU/3k_PBMC/raw_gene_bc_matrices/matrix.mtx.gz.",
          "traceback": [
            "\u001b[0;31m---------------------------------------------------------------------------\u001b[0m",
            "\u001b[0;31mFileNotFoundError\u001b[0m                         Traceback (most recent call last)",
            "\u001b[0;32m<ipython-input-17-1cffcbb4a331>\u001b[0m in \u001b[0;36m<cell line: 1>\u001b[0;34m()\u001b[0m\n\u001b[0;32m----> 1\u001b[0;31m \u001b[0madata_raw\u001b[0m \u001b[0;34m=\u001b[0m \u001b[0msc\u001b[0m\u001b[0;34m.\u001b[0m\u001b[0mread_10x_mtx\u001b[0m\u001b[0;34m(\u001b[0m\u001b[0mpath\u001b[0m\u001b[0;34m=\u001b[0m\u001b[0mfile_path_raw\u001b[0m\u001b[0;34m)\u001b[0m\u001b[0;34m\u001b[0m\u001b[0;34m\u001b[0m\u001b[0m\n\u001b[0m",
            "\u001b[0;32m/usr/local/lib/python3.10/dist-packages/scanpy/readwrite.py\u001b[0m in \u001b[0;36mread_10x_mtx\u001b[0;34m(path, var_names, make_unique, cache, cache_compression, gex_only, prefix)\u001b[0m\n\u001b[1;32m    489\u001b[0m     \u001b[0mprefix\u001b[0m \u001b[0;34m=\u001b[0m \u001b[0;34m\"\"\u001b[0m \u001b[0;32mif\u001b[0m \u001b[0mprefix\u001b[0m \u001b[0;32mis\u001b[0m \u001b[0;32mNone\u001b[0m \u001b[0;32melse\u001b[0m \u001b[0mprefix\u001b[0m\u001b[0;34m\u001b[0m\u001b[0;34m\u001b[0m\u001b[0m\n\u001b[1;32m    490\u001b[0m     \u001b[0mis_legacy\u001b[0m \u001b[0;34m=\u001b[0m \u001b[0;34m(\u001b[0m\u001b[0mpath\u001b[0m \u001b[0;34m/\u001b[0m \u001b[0;34mf\"{prefix}genes.tsv\"\u001b[0m\u001b[0;34m)\u001b[0m\u001b[0;34m.\u001b[0m\u001b[0mis_file\u001b[0m\u001b[0;34m(\u001b[0m\u001b[0;34m)\u001b[0m\u001b[0;34m\u001b[0m\u001b[0;34m\u001b[0m\u001b[0m\n\u001b[0;32m--> 491\u001b[0;31m     adata = _read_10x_mtx(\n\u001b[0m\u001b[1;32m    492\u001b[0m         \u001b[0mpath\u001b[0m\u001b[0;34m,\u001b[0m\u001b[0;34m\u001b[0m\u001b[0;34m\u001b[0m\u001b[0m\n\u001b[1;32m    493\u001b[0m         \u001b[0mvar_names\u001b[0m\u001b[0;34m=\u001b[0m\u001b[0mvar_names\u001b[0m\u001b[0;34m,\u001b[0m\u001b[0;34m\u001b[0m\u001b[0;34m\u001b[0m\u001b[0m\n",
            "\u001b[0;32m/usr/local/lib/python3.10/dist-packages/scanpy/readwrite.py\u001b[0m in \u001b[0;36m_read_10x_mtx\u001b[0;34m(path, var_names, make_unique, cache, cache_compression, prefix, is_legacy)\u001b[0m\n\u001b[1;32m    518\u001b[0m     \"\"\"\n\u001b[1;32m    519\u001b[0m     \u001b[0msuffix\u001b[0m \u001b[0;34m=\u001b[0m \u001b[0;34m\"\"\u001b[0m \u001b[0;32mif\u001b[0m \u001b[0mis_legacy\u001b[0m \u001b[0;32melse\u001b[0m \u001b[0;34m\".gz\"\u001b[0m\u001b[0;34m\u001b[0m\u001b[0;34m\u001b[0m\u001b[0m\n\u001b[0;32m--> 520\u001b[0;31m     adata = read(\n\u001b[0m\u001b[1;32m    521\u001b[0m         \u001b[0mpath\u001b[0m \u001b[0;34m/\u001b[0m \u001b[0;34mf\"{prefix}matrix.mtx{suffix}\"\u001b[0m\u001b[0;34m,\u001b[0m\u001b[0;34m\u001b[0m\u001b[0;34m\u001b[0m\u001b[0m\n\u001b[1;32m    522\u001b[0m         \u001b[0mcache\u001b[0m\u001b[0;34m=\u001b[0m\u001b[0mcache\u001b[0m\u001b[0;34m,\u001b[0m\u001b[0;34m\u001b[0m\u001b[0;34m\u001b[0m\u001b[0m\n",
            "\u001b[0;32m/usr/local/lib/python3.10/dist-packages/scanpy/readwrite.py\u001b[0m in \u001b[0;36mread\u001b[0;34m(filename, backed, sheet, ext, delimiter, first_column_names, backup_url, cache, cache_compression, **kwargs)\u001b[0m\n\u001b[1;32m    112\u001b[0m     \u001b[0mfilename\u001b[0m \u001b[0;34m=\u001b[0m \u001b[0mPath\u001b[0m\u001b[0;34m(\u001b[0m\u001b[0mfilename\u001b[0m\u001b[0;34m)\u001b[0m  \u001b[0;31m# allow passing strings\u001b[0m\u001b[0;34m\u001b[0m\u001b[0;34m\u001b[0m\u001b[0m\n\u001b[1;32m    113\u001b[0m     \u001b[0;32mif\u001b[0m \u001b[0mis_valid_filename\u001b[0m\u001b[0;34m(\u001b[0m\u001b[0mfilename\u001b[0m\u001b[0;34m)\u001b[0m\u001b[0;34m:\u001b[0m\u001b[0;34m\u001b[0m\u001b[0;34m\u001b[0m\u001b[0m\n\u001b[0;32m--> 114\u001b[0;31m         return _read(\n\u001b[0m\u001b[1;32m    115\u001b[0m             \u001b[0mfilename\u001b[0m\u001b[0;34m,\u001b[0m\u001b[0;34m\u001b[0m\u001b[0;34m\u001b[0m\u001b[0m\n\u001b[1;32m    116\u001b[0m             \u001b[0mbacked\u001b[0m\u001b[0;34m=\u001b[0m\u001b[0mbacked\u001b[0m\u001b[0;34m,\u001b[0m\u001b[0;34m\u001b[0m\u001b[0;34m\u001b[0m\u001b[0m\n",
            "\u001b[0;32m/usr/local/lib/python3.10/dist-packages/scanpy/readwrite.py\u001b[0m in \u001b[0;36m_read\u001b[0;34m(filename, backed, sheet, ext, delimiter, first_column_names, backup_url, cache, cache_compression, suppress_cache_warning, **kwargs)\u001b[0m\n\u001b[1;32m    705\u001b[0m \u001b[0;34m\u001b[0m\u001b[0m\n\u001b[1;32m    706\u001b[0m     \u001b[0;32mif\u001b[0m \u001b[0;32mnot\u001b[0m \u001b[0mis_present\u001b[0m\u001b[0;34m:\u001b[0m\u001b[0;34m\u001b[0m\u001b[0;34m\u001b[0m\u001b[0m\n\u001b[0;32m--> 707\u001b[0;31m         \u001b[0;32mraise\u001b[0m \u001b[0mFileNotFoundError\u001b[0m\u001b[0;34m(\u001b[0m\u001b[0;34mf\"Did not find file {filename}.\"\u001b[0m\u001b[0;34m)\u001b[0m\u001b[0;34m\u001b[0m\u001b[0;34m\u001b[0m\u001b[0m\n\u001b[0m\u001b[1;32m    708\u001b[0m     \u001b[0mlogg\u001b[0m\u001b[0;34m.\u001b[0m\u001b[0mdebug\u001b[0m\u001b[0;34m(\u001b[0m\u001b[0;34mf\"reading {filename}\"\u001b[0m\u001b[0;34m)\u001b[0m\u001b[0;34m\u001b[0m\u001b[0;34m\u001b[0m\u001b[0m\n\u001b[1;32m    709\u001b[0m     \u001b[0;32mif\u001b[0m \u001b[0;32mnot\u001b[0m \u001b[0mcache\u001b[0m \u001b[0;32mand\u001b[0m \u001b[0;32mnot\u001b[0m \u001b[0msuppress_cache_warning\u001b[0m\u001b[0;34m:\u001b[0m\u001b[0;34m\u001b[0m\u001b[0;34m\u001b[0m\u001b[0m\n",
            "\u001b[0;31mFileNotFoundError\u001b[0m: Did not find file /root/host_home/Documents/ICB/Teaching/2007_scanpy_HMGU/3k_PBMC/raw_gene_bc_matrices/matrix.mtx.gz."
          ]
        }
      ],
      "source": [
        "adata_raw = sc.read_10x_mtx(path=file_path_raw)"
      ]
    },
    {
      "cell_type": "markdown",
      "metadata": {
        "id": "GfuQhZU40GMP"
      },
      "source": [
        "Let us check the dataset size."
      ]
    },
    {
      "cell_type": "code",
      "execution_count": null,
      "metadata": {
        "id": "tlBAHaRs0GMQ"
      },
      "outputs": [],
      "source": [
        "adata_raw.shape"
      ]
    },
    {
      "cell_type": "code",
      "execution_count": null,
      "metadata": {
        "id": "Z4N7bVt_0GMR"
      },
      "outputs": [],
      "source": [
        "print('Total number of observations: {:d}'.format(adata_raw.n_obs))"
      ]
    },
    {
      "cell_type": "markdown",
      "metadata": {
        "id": "7fEco5yU0GMS"
      },
      "source": [
        "**Comment:** End of first session."
      ]
    },
    {
      "cell_type": "markdown",
      "metadata": {
        "toc-hr-collapsed": false,
        "id": "FH-LFFII0GMS"
      },
      "source": [
        "# Pre-processing and visualization"
      ]
    },
    {
      "cell_type": "markdown",
      "metadata": {
        "id": "LE6q06DK0GMT"
      },
      "source": [
        "## Remove empty droplets\n",
        "\n",
        "The dataset contains an excessive amount of \"cells\", which are in fact empty droplets. Let us remove these barcodes prior to further quality control. We use emptyDrops to compute if a cell is a cell or an empty droplet.\n",
        "\n",
        "It must be noted that CellRanger 3.0 has incorporated the EmptyDrops algorithm to distinguish cells from empty droplets."
      ]
    },
    {
      "cell_type": "markdown",
      "metadata": {
        "id": "FkAz-_8Q0GMT"
      },
      "source": [
        "Prepare input for EmptyDrops."
      ]
    },
    {
      "cell_type": "code",
      "execution_count": null,
      "metadata": {
        "id": "7j4wpniE0GMU"
      },
      "outputs": [],
      "source": [
        "sparse_mat = adata_raw.X.T\n",
        "genes = adata_raw.var_names\n",
        "barcodes = adata_raw.obs_names"
      ]
    },
    {
      "cell_type": "markdown",
      "metadata": {
        "id": "GxUDwprH0GMU"
      },
      "source": [
        "Run EmptyDrops."
      ]
    },
    {
      "cell_type": "code",
      "execution_count": null,
      "metadata": {
        "id": "vgoktQmW0GMV"
      },
      "outputs": [],
      "source": [
        "%%R -i sparse_mat -i genes -i barcodes -o barcodes_filtered -o ambient_genes\n",
        "\n",
        "sce <- SingleCellExperiment(assays = list(counts = sparse_mat), colData=barcodes)\n",
        "rownames(sce) <- genes\n",
        "ambient <- emptyDrops(counts(sce))\n",
        "is_cell <- ambient$FDR <= 0.05\n",
        "threshold_ambient <- 0.005\n",
        "ambient_genes <- names(ambient@metadata$ambient[ambient@metadata$ambient> threshold_ambient,])\n",
        "barcodes_filtered <- barcodes[which(is_cell)]"
      ]
    },
    {
      "cell_type": "markdown",
      "metadata": {
        "id": "BorFFCQJ0GMW"
      },
      "source": [
        "Empty drops returns a list of potentially ambient genes and the barcodes, which belong to actual cells."
      ]
    },
    {
      "cell_type": "code",
      "execution_count": null,
      "metadata": {
        "id": "pBat5FTa0GMW"
      },
      "outputs": [],
      "source": [
        "ambient_genes"
      ]
    },
    {
      "cell_type": "code",
      "execution_count": null,
      "metadata": {
        "id": "hZpJXMDH0GMX"
      },
      "outputs": [],
      "source": [
        "barcodes_filtered"
      ]
    },
    {
      "cell_type": "markdown",
      "metadata": {
        "id": "8xqOa5_U0GMX"
      },
      "source": [
        "Let us create a filtered data matrix using the filtered barcodes."
      ]
    },
    {
      "cell_type": "code",
      "execution_count": null,
      "metadata": {
        "id": "4NpOOXAw0GMZ"
      },
      "outputs": [],
      "source": [
        "adata = adata_raw[np.in1d(adata_raw.obs_names, barcodes_filtered)].copy()"
      ]
    },
    {
      "cell_type": "code",
      "execution_count": null,
      "metadata": {
        "id": "RiRJ7NZZ0GMZ"
      },
      "outputs": [],
      "source": [
        "adata"
      ]
    },
    {
      "cell_type": "markdown",
      "metadata": {
        "id": "1K0phe3J0GMa"
      },
      "source": [
        "**BONUS**: Examine the level of background gene expression."
      ]
    },
    {
      "cell_type": "markdown",
      "metadata": {
        "id": "Eorwze1P0GMa"
      },
      "source": [
        "Save the filtered data set to file."
      ]
    },
    {
      "cell_type": "code",
      "execution_count": null,
      "metadata": {
        "id": "y4JB7Am60GMy"
      },
      "outputs": [],
      "source": [
        "adata.write(data_dir + 'data_filtered.h5ad')"
      ]
    },
    {
      "cell_type": "markdown",
      "metadata": {
        "id": "ShVYqQFx0GMz"
      },
      "source": [
        "## Quality control"
      ]
    },
    {
      "cell_type": "markdown",
      "metadata": {
        "id": "eO1BcOG40GMz"
      },
      "source": [
        "Read data from file to begin with the quality control."
      ]
    },
    {
      "cell_type": "code",
      "execution_count": null,
      "metadata": {
        "id": "Almkx0PU0GM0"
      },
      "outputs": [],
      "source": [
        "adata = sc.read(data_dir + 'data_filtered.h5ad')"
      ]
    },
    {
      "cell_type": "markdown",
      "metadata": {
        "id": "rZ4Xm-Kc0GM0"
      },
      "source": [
        "Data quality control can be split into cell QC and gene QC. Typical quality measures for assessing the quality of a cell include the number of molecule counts (UMIs), the number of expressed genes, and the fraction of counts that are mitochondrial. A high fraction of mitochondrial reads being picked up can indicate cell stress, as there is a low proportion of nuclear mRNA in the cell. It should be noted that high mitochondrial RNA fractions can also be biological signals indicating elevated respiration."
      ]
    },
    {
      "cell_type": "markdown",
      "metadata": {
        "id": "pQwZeGLy0GM1"
      },
      "source": [
        "We start with calculating the QC covariates:\n",
        "\n",
        "* total number of counts per cell\n",
        "* number of expressed genes per cell\n",
        "* fraction of mitochondrial reads per cell"
      ]
    },
    {
      "cell_type": "markdown",
      "metadata": {
        "id": "pPRnCXNI0GM1"
      },
      "source": [
        "**Task:** Compute the library size (i.e. the total number of counts per cell), compute the log-scaled library size and the number of expressed genes per cell.\n",
        "\n",
        "**BONUS:** Compute the mean gene expression and the fraction of cells that express a gene. Compute the mean gene expression per batch, donor and replicate."
      ]
    },
    {
      "cell_type": "code",
      "execution_count": null,
      "metadata": {
        "id": "dK7qHzP50GM2"
      },
      "outputs": [],
      "source": [
        "# Quality control - calculate QC covariates\n",
        "adata.obs['n_counts'] = #\n",
        "adata.obs['log_counts'] = #\n",
        "adata.obs['n_genes'] = #"
      ]
    },
    {
      "cell_type": "markdown",
      "metadata": {
        "id": "kKjE6QWP0GM2"
      },
      "source": [
        "Compute the fraction of mitochondrial genes. Note: mitochondrial genes in human start with 'MT-'."
      ]
    },
    {
      "cell_type": "code",
      "execution_count": null,
      "metadata": {
        "id": "cgGTacHa0GM3"
      },
      "outputs": [],
      "source": [
        "mt_gene_mask = np.flatnonzero([gene.startswith('MT-') for gene in adata.var_names])\n",
        "# the `.A1` is only necessary as X is sparse (to transform to a dense array after summing)\n",
        "adata.obs['mt_frac'] = np.sum(adata[:, mt_gene_mask].X, axis=1).A1/adata.obs['n_counts']"
      ]
    },
    {
      "cell_type": "markdown",
      "metadata": {
        "id": "w4uXQkJl0GM4"
      },
      "source": [
        "Let us visualize the number of expressed genes and the number of counts as a scatter plot."
      ]
    },
    {
      "cell_type": "markdown",
      "metadata": {
        "id": "Jk_oUWAL0GM4"
      },
      "source": [
        "**Task:** Create a scatter plot with the library size against the number of genes. Create a second plot, where you only show cells with a library size of less than 10,000 counts. Color by the fraction of mitochondrial reads.\n",
        "\n",
        "**Questions:** How can we describe the relation of library size vs number of expressed genes vs mitochondrial reads?\n",
        "\n",
        "**BONUS:** Plot the highest expressed genes.\n",
        "\n"
      ]
    },
    {
      "cell_type": "code",
      "execution_count": null,
      "metadata": {
        "id": "hOsGqwWD0GM5"
      },
      "outputs": [],
      "source": [
        "#Data quality summary plots\n",
        "p1 = sc.pl.scatter(adata = , x='' , y='', color='', size=40)\n",
        "#hint: temporary subsetting of the anndata object by .obs works like adata[adata.obs['key']<value]\n",
        "p2 = sc.pl.scatter(adata = , x='', y='',\n",
        "                   color='', size=40)"
      ]
    },
    {
      "cell_type": "markdown",
      "metadata": {
        "id": "jh6jI83b0GM6"
      },
      "source": [
        "**Task:** Below, you find a the code to create a violin plot of the library size. Create another two violin plots displaying the number of genes and the fraction of mitochondrial reads.\n",
        "\n",
        "**Questions:** How do the count data distribute within the sample?\n"
      ]
    },
    {
      "cell_type": "code",
      "execution_count": null,
      "metadata": {
        "id": "pxt5sQgM0GM7"
      },
      "outputs": [],
      "source": [
        "#Sample quality plots\n",
        "rcParams['figure.figsize']=(7,7)\n",
        "t1 = sc.pl.violin(adata, 'n_counts',\n",
        "                  #groupby='sample',\n",
        "                  size=2, log=True, cut=0)\n",
        "t1 = sc.pl.violin() #display number of genes\n",
        "t2 = sc.pl.violin() #display the fraction of mitochondrial reads"
      ]
    },
    {
      "cell_type": "markdown",
      "metadata": {
        "id": "L7Yb_KuM0GM7"
      },
      "source": [
        "**Conclusions:** By looking at plots of the number of genes versus the number of counts with MT fraction information, we can assess whether there are cells with unexpected summary statistics. It is important here to look at these statistics jointly.  We should probably still filter out some cells with very few genes as these may be difficult to annotate later. This will be true for the initial cellular density between 1000-4000 counts and < ~500 genes.\n",
        "\n",
        "Furthermore it can be seen in the main cloud of data points, that cells with lower counts and genes tend to have a higher fraction of mitochondrial counts. These cells are likely under stress or are dying. When apoptotic cells are sequenced, there is less mRNA to be captured in the nucleus, and therefore fewer counts overall, and thus a higher fraction of counts fall upon mitochondrial RNA. If cells with high mitochondrial activity were found at higher counts/genes per cell, this would indicate biologically relevant mitochondrial activity."
      ]
    },
    {
      "cell_type": "markdown",
      "metadata": {
        "id": "F5ck7my40GM8"
      },
      "source": [
        "**Task:** Create a histogram for the total number of counts. Further, create a histogram for the low count and high count regime, each. Here, you have to decide on a reasonable threshold."
      ]
    },
    {
      "cell_type": "markdown",
      "metadata": {
        "id": "WVcobp8o0GM-"
      },
      "source": [
        "Note: `pandas` does some histogram plotting with `adata.obs['n_counts'].hist()`, howecer, you will obtain prettier plots with `distplot` from `seaborn`.    "
      ]
    },
    {
      "cell_type": "code",
      "execution_count": null,
      "metadata": {
        "id": "fXZkcyOn0GM-"
      },
      "outputs": [],
      "source": [
        "#Thresholding decision: counts\n",
        "rcParams['figure.figsize']=(20,5)\n",
        "fig_ind=np.arange(131, 134)\n",
        "fig = plt.figure()\n",
        "fig.subplots_adjust(hspace=0.4, wspace=0.6)\n",
        "\n",
        "p3 = sb.distplot(adata.obs['n_counts'],\n",
        "                 kde=False,\n",
        "                 ax=fig.add_subplot(fig_ind[0]))\n",
        "p4 = sb.distplot( #histogram for low count regime\n",
        "                 ax=fig.add_subplot(fig_ind[1]))\n",
        "p5 = sb.distplot( #histogram for high count regime\n",
        "                 ax=fig.add_subplot(fig_ind[2]))\n",
        "plt.show()"
      ]
    },
    {
      "cell_type": "markdown",
      "metadata": {
        "id": "zBn9kbSD0GM_"
      },
      "source": [
        "**Conclusions:**\n",
        "Histograms of the number of counts per cell show a small peak of groups of cells with fewer than **XX** counts, which are likely uninformative given the overall distribution of counts. This may be cellular debris found in droplets.\n",
        "\n",
        "On the upper end of counts, we see a population of cells with high counts with decaying slope at **XX** counts. We estimate this population to range until **XX** counts. This estimation is performed by visually tracing a Gaussian around the population."
      ]
    },
    {
      "cell_type": "markdown",
      "metadata": {
        "id": "sjd7_4Qd0GNA"
      },
      "source": [
        "**Task:** Create a histogram for the total number of genes. Further, create a histogram for the low gene count regime."
      ]
    },
    {
      "cell_type": "code",
      "execution_count": null,
      "metadata": {
        "id": "F3F4xUZX0GNA"
      },
      "outputs": [],
      "source": [
        "#Thresholding decision: genes\n",
        "\n",
        "rcParams['figure.figsize']=(20,5)\n",
        "fig_ind=np.arange(131, 133)\n",
        "fig = plt.figure()\n",
        "fig.subplots_adjust(hspace=0.4, wspace=0.6) #create a grid for subplots\n",
        "\n",
        "p6 = sb.distplot(adata.obs['n_genes'], kde=False, bins=60, ax=fig.add_subplot(fig_ind[0]))\n",
        "#low number of genes regime\n",
        "p7 = sb.distplot( ax=fig.add_subplot(fig_ind[1]))\n",
        "plt.show()"
      ]
    },
    {
      "cell_type": "markdown",
      "metadata": {
        "id": "GEvcr71C0GNB"
      },
      "source": [
        "**Conclusions:**\n",
        "Two populations of cells with low gene counts can be seen in the above plots. Given these plots, and the plot of genes vs counts above, we decide to filter out cells with fewer than **XX** genes expressed. Below this we are likely to find dying cells or empty droplets with ambient RNA. Looking above at the joint plots, we see that we filter out the main density of low gene cells with this threshold.\n",
        "\n",
        "In general it is a good idea to be permissive in the early filtering steps, and then come back to filter out more stringently when a clear picture is available of what would be filtered out. This is available after visualization/clustering. For demonstration purposes we stick to a simple (and slightly more stringent) filtering here."
      ]
    },
    {
      "cell_type": "markdown",
      "metadata": {
        "id": "a8KkWx5i0GNB"
      },
      "source": [
        "**Task:** Create a histogram for the fraction of mitochondrial genes. Further, create a histogram for the high fraction regime."
      ]
    },
    {
      "cell_type": "code",
      "execution_count": null,
      "metadata": {
        "id": "AlPOT_kS0GNC"
      },
      "outputs": [],
      "source": [
        "#Thresholding decision: mitochondrial reads\n",
        "\n",
        "rcParams['figure.figsize']=(20,5)\n",
        "fig_ind=np.arange(131, 133)\n",
        "fig = plt.figure()\n",
        "fig.subplots_adjust(hspace=0.4, wspace=0.6)\n",
        "\n",
        "p8 = sb.distplot(  #display the fraction of mitochondrial reads\n",
        "                 ax=fig.add_subplot(fig_ind[0]))\n",
        "\n",
        "p9 = sb.distplot(  #display the fraction of mitochondrial reads for the high fraction (in this case a threshold of 0.2 as high)\n",
        "                 ax=fig.add_subplot(fig_ind[1]))\n",
        "plt.show()"
      ]
    },
    {
      "cell_type": "markdown",
      "metadata": {
        "id": "tkNeITbg0GND"
      },
      "source": [
        "**Task:** Filter your cells according for the total number of counts, number of expressed genes and fraction of mitochondrial reads. Check the number of remaining cells after each filtering step."
      ]
    },
    {
      "cell_type": "code",
      "execution_count": null,
      "metadata": {
        "id": "LY1T7imC0GNO"
      },
      "outputs": [],
      "source": [
        "# Filter cells according to identified QC thresholds:\n",
        "print('Total number of cells: {:d}'.format(adata.n_obs))\n",
        "\n",
        "sc.pp.filter_cells(adata, min_counts = )\n",
        "print('Number of cells after min count filter: {:d}'.format(adata.n_obs))\n",
        "\n",
        "sc.pp.filter_cells(adata, max_counts = )\n",
        "print('Number of cells after max count filter: {:d}'.format(adata.n_obs))\n",
        "\n",
        "adata = adata[adata.obs['mt_frac'] < ]\n",
        "print('Number of cells after MT filter: {:d}'.format(adata.n_obs))\n",
        "\n",
        "sc.pp.filter_cells(adata, min_genes = )\n",
        "print('Number of cells after gene filter: {:d}'.format(adata.n_obs))"
      ]
    },
    {
      "cell_type": "markdown",
      "metadata": {
        "id": "7x4-FgBf0GNP"
      },
      "source": [
        "**Task:** Next, filter out non-expressed genes. Check the number of remaining genes after filtering."
      ]
    },
    {
      "cell_type": "code",
      "execution_count": null,
      "metadata": {
        "id": "sJOQ-b4v0GNQ"
      },
      "outputs": [],
      "source": [
        "#Filter genes:\n",
        "print('Total number of genes: {:d}'.format(adata.n_vars))\n",
        "\n",
        "# Min 20 cells - filters out 0 count genes\n",
        "sc.pp.filter_genes(adata, )\n",
        "\n",
        "print('Number of genes after cell filter: {:d}'.format(adata.n_vars))"
      ]
    },
    {
      "cell_type": "markdown",
      "metadata": {
        "id": "Ve75WYdX0GNR"
      },
      "source": [
        "The filtering is performed based on the thresholds we identified from the QC plots. Genes are also filtered if they are not detected in at least **XX** cells. This reduces the dimensions of the matrix by removing 0 count genes and genes which are not sufficiently informative of the dataset."
      ]
    },
    {
      "cell_type": "markdown",
      "metadata": {
        "id": "5SxZGGOZ0GNR"
      },
      "source": [
        "### Doublet score"
      ]
    },
    {
      "cell_type": "markdown",
      "metadata": {
        "id": "2j3wHL6F0GNU"
      },
      "source": [
        "Let us estimate the amount of doublets in the dataset. Here, we use the tool `scrublet` that simulates doublet gene expression profiles based on the data. We apply it for each sample separately."
      ]
    },
    {
      "cell_type": "code",
      "execution_count": null,
      "metadata": {
        "id": "ozBP0yTo0GNV"
      },
      "outputs": [],
      "source": [
        "adata.obs['doublet_score']= np.zeros(adata.shape[0])\n",
        "adata.obs['doublet'] = np.zeros(adata.shape[0])"
      ]
    },
    {
      "cell_type": "code",
      "execution_count": null,
      "metadata": {
        "id": "kvyD2qa90GNX"
      },
      "outputs": [],
      "source": [
        "# filtering/preprocessing parameters:\n",
        "min_counts = 2\n",
        "min_cells = 3\n",
        "vscore_percentile = 85\n",
        "n_pc = 50\n",
        "\n",
        "# doublet detector parameters:\n",
        "expected_doublet_rate = 0.02\n",
        "sim_doublet_ratio = 3\n",
        "n_neighbors = 15\n",
        "\n",
        "\n",
        "\n",
        "scrub = scr.Scrublet(counts_matrix = adata.X,\n",
        "                     n_neighbors = n_neighbors,\n",
        "                     sim_doublet_ratio = sim_doublet_ratio,\n",
        "                     expected_doublet_rate = expected_doublet_rate)\n",
        "\n",
        "doublet_scores, predicted_doublets = scrub.scrub_doublets(\n",
        "                    min_counts = min_counts,\n",
        "                    min_cells = min_cells,\n",
        "                    n_prin_comps = n_pc,\n",
        "                    use_approx_neighbors = True,\n",
        "                    get_doublet_neighbor_parents = False)\n",
        "\n",
        "adata.obs['doublet_score'] = doublet_scores\n",
        "adata.obs['doublet'] = predicted_doublets\n"
      ]
    },
    {
      "cell_type": "markdown",
      "metadata": {
        "id": "iEvrtXnI0GNg"
      },
      "source": [
        "**Tasks:** Plot the doublet score as a histogram and as violin plot."
      ]
    },
    {
      "cell_type": "code",
      "execution_count": null,
      "metadata": {
        "id": "_SzSYGhe0GNh"
      },
      "outputs": [],
      "source": [
        "rcParams['figure.figsize']=(6,6)\n",
        "sb.distplot() #histogram of the doublet score\n",
        "plt.show()\n",
        "\n",
        "rcParams['figure.figsize']=(15,7)\n",
        "sc.pl.violin() #violin plot of the doublet score"
      ]
    },
    {
      "cell_type": "markdown",
      "metadata": {
        "id": "NxuWJAcU0GNi"
      },
      "source": [
        "### filtering doublets"
      ]
    },
    {
      "cell_type": "markdown",
      "metadata": {
        "id": "lcpYaYrJ0GNi"
      },
      "source": [
        "Scrublet proposed a different threshold than we would choose based upon the histogram plot of the doublet scores."
      ]
    },
    {
      "cell_type": "markdown",
      "metadata": {
        "id": "hSLmlLuv0GNj"
      },
      "source": [
        "**Tasks:** Decide on a threshold to filter doublets."
      ]
    },
    {
      "cell_type": "code",
      "execution_count": null,
      "metadata": {
        "id": "cEEUfiHU0GNl"
      },
      "outputs": [],
      "source": [
        "thr = #add threshold\n",
        "ix_filt = adata.obs['doublet_score']<=thr\n",
        "\n",
        "adata = adata[ix_filt].copy()\n",
        "print('Number of cells after doublet filter: {:d}'.format(adata.n_obs))"
      ]
    },
    {
      "cell_type": "markdown",
      "metadata": {
        "id": "27K-ICyn0GNm"
      },
      "source": [
        "### Summarize sample information"
      ]
    },
    {
      "cell_type": "markdown",
      "metadata": {
        "id": "m6-LSO-t0GNn"
      },
      "source": [
        "In order to group by `batch` (for future purposes, because we presently deal with one sample), let us add a `batch` covariate to the `adata` object."
      ]
    },
    {
      "cell_type": "code",
      "execution_count": null,
      "metadata": {
        "id": "jsw-7eSW0GN_"
      },
      "outputs": [],
      "source": [
        "adata.obs['batch'] = '1'\n",
        "\n",
        "df = adata.obs[['n_genes','n_counts', 'batch']]\n",
        "df_all = pd.DataFrame(df.groupby(by='batch')['n_genes'].apply(np.mean).values,\n",
        "                      index=df.groupby(by='batch')['n_genes'].apply(np.mean).index,\n",
        "                      columns=['mean_genes'])\n",
        "\n",
        "df_all['median_genes']=df.groupby(by='batch')['n_genes'].apply(np.median).values\n",
        "df_all['mean_counts']=df.groupby(by='batch')['n_counts'].apply(np.mean).values\n",
        "df_all['median_counts']=df.groupby(by='batch')['n_counts'].apply(np.median).values\n",
        "df_all"
      ]
    },
    {
      "cell_type": "markdown",
      "metadata": {
        "id": "a9fznbzJ0GOA"
      },
      "source": [
        "Display table."
      ]
    },
    {
      "cell_type": "code",
      "execution_count": null,
      "metadata": {
        "id": "g2hwt3Vs0GOB"
      },
      "outputs": [],
      "source": [
        "df_all"
      ]
    },
    {
      "cell_type": "markdown",
      "metadata": {
        "id": "PP3Vp9IR0GOB"
      },
      "source": [
        "**Tasks:** Save the summary table to file (`csv` or `xlsx` format) to the `tables` subdirectory."
      ]
    },
    {
      "cell_type": "code",
      "execution_count": null,
      "metadata": {
        "id": "COX-sUUE0GOC"
      },
      "outputs": [],
      "source": []
    },
    {
      "cell_type": "markdown",
      "metadata": {
        "id": "dWbfhFSU02GK"
      },
      "source": [
        "**Comment:** End of second session."
      ]
    },
    {
      "cell_type": "markdown",
      "metadata": {
        "id": "86IpKilN0GOD"
      },
      "source": [
        "## Normalization"
      ]
    },
    {
      "cell_type": "markdown",
      "metadata": {
        "id": "umQHQ09l0GOD"
      },
      "source": [
        "So far, our dataset is a count matrix. Here, every count corresponds to an mRNA molecule captured in the scRNA-seq experiment. As not all mRNA molecules in a cell are captured, there is a variability in the total number of counts detected between cells that results from both the number of molecules that were in the cells, and the sampling. As we cannot assume that all cells contain an equal number of molecules (cell sizes can differ substantially), we have to estimate the number of molecules that were initially in the cells. In fact, we don't estimate the exact number of molecules, but instead estimate cell-specific factors that should be proportional to the true number of molecules. These are called size factors. Normalized expression values are calculated by dividing the measured counts by the size factor for the cell.\n",
        "\n",
        "Several methods for normalization for scRNA-seq data have been proposed. Here, we the `scran` library size normalization followed by log-transformation. In addition, we save the count matrix to `layers` as 'counts'."
      ]
    },
    {
      "cell_type": "markdown",
      "metadata": {
        "id": "jb2cR4-e0GOE"
      },
      "source": [
        "**Comment:** We have (not comprehensively) tested whether normalisation per sample or all samples jointly gives more accurate results. When we normalised per sample, observed many more differentially expressed genes across conditions (in the range of thousands). We think that normalisation per sample preserves a systematic bias while joint normalisation removes batch effects within the same cluster partially, if a cluster contains cell from several batches. No such effect of the normalisation can be observed when samples do not overlap at all. For the time being, we perform joint normalisation of all samples."
      ]
    },
    {
      "cell_type": "code",
      "execution_count": null,
      "metadata": {
        "id": "UODLE0bJ0GOE"
      },
      "outputs": [],
      "source": [
        "#Perform a clustering for scran normalization in clusters\n",
        "adata_pp = adata.copy()\n",
        "sc.pp.normalize_per_cell(adata_pp, counts_per_cell_after=1e6)\n",
        "sc.pp.log1p(adata_pp)\n",
        "sc.pp.pca(adata_pp, n_comps=15)\n",
        "sc.pp.neighbors(adata_pp)\n",
        "sc.tl.louvain(adata_pp, key_added='groups', resolution=0.5)"
      ]
    },
    {
      "cell_type": "code",
      "execution_count": null,
      "metadata": {
        "id": "qGIHyAGS0GOF"
      },
      "outputs": [],
      "source": [
        "#Preprocess variables for scran normalization\n",
        "input_groups = adata_pp.obs['groups']\n",
        "data_mat = adata.X.T"
      ]
    },
    {
      "cell_type": "code",
      "execution_count": null,
      "metadata": {
        "id": "R7wqPF9t0GOG"
      },
      "outputs": [],
      "source": [
        "%%R -i data_mat -i input_groups -o size_factors\n",
        "\n",
        "size_factors = computeSumFactors(data_mat, clusters=input_groups, min.mean=0.1)"
      ]
    },
    {
      "cell_type": "markdown",
      "metadata": {
        "id": "rhjb9jpF0GOG"
      },
      "source": [
        "**Tasks:** Save the size factors to the both anndata objects. Create a scatter plot of size factor vs library size and number of expressed genes, respectively. Repeat with `adata_pp` and color by louvain cluster (covariate `groups`). Create a histogram over all size factors.\n",
        "\n",
        "**Questions:** How does the size factor relate to library size and number of expressed genes? Can we observe differences for the louvain clusters?\n"
      ]
    },
    {
      "cell_type": "code",
      "execution_count": null,
      "metadata": {
        "id": "UeUJJy8U0GOH"
      },
      "outputs": [],
      "source": [
        "# Visualize the estimated size factors\n",
        "adata.obs['size_factors'] =\n",
        "adata_pp.obs['size_factors'] =\n",
        "\n",
        "rcParams['figure.figsize']=(8,8)\n",
        "sc.pl.scatter() #color by library size\n",
        "sc.pl.scatter() #color by number of expressed genes\n",
        "\n",
        "#let us visualise how size factors differ across clusters\n",
        "sc.pl.scatter() #color by library size\n",
        "sc.pl.scatter() #color by number of expressed genes\n",
        "\n",
        "\n",
        "sb.distplot() #histogram of size factors\n",
        "plt.show()"
      ]
    },
    {
      "cell_type": "markdown",
      "metadata": {
        "id": "lkopWCf70GOI"
      },
      "source": [
        "Save the count matrix as layer."
      ]
    },
    {
      "cell_type": "code",
      "execution_count": null,
      "metadata": {
        "id": "31xofQ6s0GOI"
      },
      "outputs": [],
      "source": [
        "adata.layers['counts'] = adata.X.copy()"
      ]
    },
    {
      "cell_type": "markdown",
      "metadata": {
        "id": "x4_m4Ggi0GOJ"
      },
      "source": [
        "Normalize with scran size-factors and log-scale."
      ]
    },
    {
      "cell_type": "code",
      "execution_count": null,
      "metadata": {
        "id": "6xcGIM2z0GOJ"
      },
      "outputs": [],
      "source": [
        "adata.X /= adata.obs['size_factors'].values[:,None]\n",
        "sc.pp.log1p(adata)"
      ]
    },
    {
      "cell_type": "markdown",
      "metadata": {
        "id": "M4CapaaA0GOQ"
      },
      "source": [
        "Modify the format of the resulting data matrix."
      ]
    },
    {
      "cell_type": "code",
      "execution_count": null,
      "metadata": {
        "id": "FcTc1K9b0GOR"
      },
      "outputs": [],
      "source": [
        "adata.X = np.asarray(adata.X)"
      ]
    },
    {
      "cell_type": "markdown",
      "metadata": {
        "id": "xPwrOJLA0GOR"
      },
      "source": [
        "Free memory."
      ]
    },
    {
      "cell_type": "code",
      "execution_count": null,
      "metadata": {
        "id": "pgPdif530GOS"
      },
      "outputs": [],
      "source": [
        "del adata_pp"
      ]
    },
    {
      "cell_type": "markdown",
      "metadata": {
        "id": "ETDBFKpj0GOS"
      },
      "source": [
        "## Batch correction - general remarks"
      ]
    },
    {
      "cell_type": "markdown",
      "metadata": {
        "id": "_VvUsX8l0GOT"
      },
      "source": [
        "This dataset consists of a single batch, thus, batch effect correction is not an issue here. If you handle several batches, you may observe differences across samples, for instance, in the library size per dataset. Such differences may contribute to the batch effect. [Büttner et al., Nat Meth (2019)](https://www.nature.com/articles/s41592-018-0254-1) compared the performance of several batch correction methods. For low-to-medium complexity datasets, ComBat performed best among the tested tools. ComBat is also available in `scanpy` (see `sc.pp.combat`)."
      ]
    },
    {
      "cell_type": "markdown",
      "metadata": {
        "id": "rL5dd9Ze0GOU"
      },
      "source": [
        "For high complexity data, especially when you encounter changes in cell type composition, consider to use a data integration method of your choice. We distinguish three different types, *i.e.* if the methods create a corrected data matrix (in feature space), an embedding or a knn-graph. Examples are:\n",
        "1. feature space: MNN (`scanpy.external.pp.mnn_correct`), scanorama (integrates with scanpy), Seurat v3 (R based)\n",
        "2. embedding: scVI (Python based), Harmony (R based), scanorama\n",
        "3. knn-graph: conos (R based), BBKNN (`scanpy.external.pp.bbknn`)\n",
        "\n",
        "Several benchmarking studies aimed to determine best performing methods. In simple cases, Seurat v3 and Harmony performed best [Tran et al., Genome Biology (2020)](https://genomebiology.biomedcentral.com/articles/10.1186/s13059-019-1850-9) and [Chazarra-Gil et al., biorxiv (2020)](https://www.biorxiv.org/content/10.1101/2020.05.22.111211v2). More complex scenarios have been benchmarked in [Luecken et al., biorxiv (2020)](https://www.biorxiv.org/content/10.1101/2020.05.22.111161v2), where BBKNN, Scanorama, and scVI performed well. Furthermore, Scanorama had high scores in the preservation of biological signals, while BBKNN tended to overcorrect. Moreover, Luecken et al. tested different pre-processing schemes. In general, **selecting highly variable genes prior to batch correction improved the batch effect correction result**. We continue with the selection of highly variable genes.\n"
      ]
    },
    {
      "cell_type": "markdown",
      "metadata": {
        "id": "Oxrs7E5G0GOU"
      },
      "source": [
        "## Feature selection (Highly variable genes)"
      ]
    },
    {
      "cell_type": "markdown",
      "metadata": {
        "id": "jqgJhc2E0GOV"
      },
      "source": [
        "We extract highly variable genes (HVGs) to further reduce the dimensionality of the dataset and include only the most informative genes. Genes that vary substantially across the dataset are informative of the underlying biological variation in the data. As we only want to capture biological variation in these genes, we select highly variable genes after normalization and batch correction. HVGs are used for clustering, trajectory inference, and dimensionality reduction/visualization, while the full data set is used for computing marker genes, differential testing, cell cycle scoring, and visualizing expression values on the data.\n",
        "\n",
        "Here we use a standard technique for the extraction of highly variable genes from the 10X genomics preprocessing software *CellRanger*. Typically between 1000 and 5000 genes are selected. Here, we extract the top 4000 most variable genes for further processing. If particular genes of importance are known, one could assess how many highly variable genes are necessary to include all, or the majority, of these."
      ]
    },
    {
      "cell_type": "markdown",
      "metadata": {
        "id": "gAl4B7hW0GOV"
      },
      "source": [
        "Compute highly variable genes and visualize."
      ]
    },
    {
      "cell_type": "code",
      "execution_count": null,
      "metadata": {
        "id": "gm_mCAD10GOW"
      },
      "outputs": [],
      "source": [
        "sc.pp.highly_variable_genes(adata, flavor='cell_ranger', n_top_genes=2000)\n",
        "print('\\n','Number of highly variable genes: {:d}'.format(np.sum(adata.var['highly_variable'])))"
      ]
    },
    {
      "cell_type": "code",
      "execution_count": null,
      "metadata": {
        "id": "QbCGkFNp0GOW"
      },
      "outputs": [],
      "source": [
        "rcParams['figure.figsize']=(10,5)\n",
        "sc.pl.highly_variable_genes(adata)"
      ]
    },
    {
      "cell_type": "markdown",
      "metadata": {
        "id": "cX5u1TMl0GOX"
      },
      "source": [
        "The plots show how the data was normalized to select highly variable genes irrespective of the mean expression of the genes. This is achieved by using the index of dispersion which divides by mean expression, and subsequently binning the data by mean expression and selecting the most variable genes within each bin.\n",
        "\n",
        "Highly variable gene information is stored automatically in the `adata.var['highly_variable']` field. The dataset now contains:\n",
        "\n",
        "* count data as layer 'counts' in adata\n",
        "* log-scran normalized data in adata.X\n",
        "* highly variable gene annotations in `adata.var['highly_variable']`\n"
      ]
    },
    {
      "cell_type": "markdown",
      "metadata": {
        "id": "dsHoeqoS0GOX"
      },
      "source": [
        "## Visualization"
      ]
    },
    {
      "cell_type": "markdown",
      "metadata": {
        "id": "vB98H3Xl0GOY"
      },
      "source": [
        "Visualizing scRNA-seq data is the process of projecting a high-dimensional matrix of cells and genes into a few coordinates such that every cell is meaningfully represented in a two-dimensional graph. However, the visualization of scRNA-seq data is an active area of research and each method defines 'meaningful' in its own way.\n",
        "\n",
        "Overall t-SNE visualizations have been very popular in the community, however the recent UMAP algorithm has been shown to better represent the topology of the data.\n",
        "\n",
        "We will look at several visualizations to decide which visualization best represents the aspect of the data."
      ]
    },
    {
      "cell_type": "markdown",
      "metadata": {
        "id": "gtXnZ21i0GOY"
      },
      "source": [
        "Compute the following embeddings: PCA, t-SNE, UMAP, diffusion map and force-directed graph. Please compute PCA first and compute nearest neighbors next. All other embeddings rely on this information. Visualize the embeddings and color by the total number of counts."
      ]
    },
    {
      "cell_type": "code",
      "execution_count": null,
      "metadata": {
        "scrolled": true,
        "id": "ul6MQYtX0GOZ"
      },
      "outputs": [],
      "source": [
        "sc.pp.pca(adata, n_comps=50, use_highly_variable=True, svd_solver='arpack')"
      ]
    },
    {
      "cell_type": "markdown",
      "metadata": {
        "id": "gDI3xtPw0GOZ"
      },
      "source": [
        "To determine the number of informative principal components, let us review the variance contribution of each component."
      ]
    },
    {
      "cell_type": "code",
      "execution_count": null,
      "metadata": {
        "id": "TtpbUyji0GOa"
      },
      "outputs": [],
      "source": [
        "sc.pl.pca_variance_ratio(adata)"
      ]
    },
    {
      "cell_type": "markdown",
      "metadata": {
        "id": "ST5wiR-l0GOa"
      },
      "source": [
        "Using the elbow method, we select the first **XX** PCs as informative."
      ]
    },
    {
      "cell_type": "markdown",
      "metadata": {
        "id": "Vek7-58v0GOb"
      },
      "source": [
        "**Task:** Decide on the number of informative principal components."
      ]
    },
    {
      "cell_type": "code",
      "execution_count": null,
      "metadata": {
        "id": "YQb4v1980GOb"
      },
      "outputs": [],
      "source": [
        "sc.pp.pca(adata, n_comps= ,#number of informative components\n",
        "          use_highly_variable=True, svd_solver='arpack')\n",
        "sc.pp.neighbors(adata)\n",
        "sc.tl.tsne(adata) #Note n_jobs works for MulticoreTSNE, but not regular implementation)\n",
        "sc.tl.umap(adata)\n",
        "sc.tl.diffmap(adata)\n",
        "sc.tl.draw_graph(adata)"
      ]
    },
    {
      "cell_type": "code",
      "execution_count": null,
      "metadata": {
        "id": "ns9KuET70GOc"
      },
      "outputs": [],
      "source": [
        "rcParams['figure.figsize']=(20,10)\n",
        "fig_ind=np.arange(231, 237)\n",
        "fig = plt.figure()\n",
        "fig.subplots_adjust(hspace=0.4, wspace=0.6)\n",
        "\n",
        "p10 = sc.pl.pca_scatter(adata, color='n_counts', ax=fig.add_subplot(fig_ind[0]), show=False)\n",
        "p11 = sc.pl.tsne(adata, color='n_counts', ax=fig.add_subplot(fig_ind[1]), show=False)\n",
        "p12 = sc.pl.umap(adata, color='n_counts', ax=fig.add_subplot(fig_ind[2]), show=False)\n",
        "p13 = sc.pl.diffmap(adata, color='n_counts', components=['1,2'], ax=fig.add_subplot(fig_ind[3]),show=False)\n",
        "p14 = sc.pl.diffmap(adata, color='n_counts', components=['1,3'], ax=fig.add_subplot(fig_ind[4]), show=False)\n",
        "p15 = sc.pl.draw_graph(adata, color='n_counts', ax=fig.add_subplot(fig_ind[5]), show=False)\n",
        "\n",
        "plt.show()"
      ]
    },
    {
      "cell_type": "markdown",
      "metadata": {
        "id": "4b2Xw8_v0GOd"
      },
      "source": [
        "**PCA**:\n",
        "\n",
        "* Unsurprisingly, the first principle component captures variation in count depth between cells, and is thus only marginally informative\n",
        "* The plot shows a weak clustering of the data in two dimensions\n",
        "\n",
        "**t-SNE**:\n",
        "\n",
        "* Shows several distinct clusters with clear subcluster structure\n",
        "* Connections between clusters are difficult to interpret visually\n",
        "\n",
        "**UMAP**:\n",
        "\n",
        "* Data points are spread out on the plot showing several clusters\n",
        "* Connections between clusters also not visible (and not expected for PBMC data)\n",
        "\n",
        "**Diffusion Maps**:\n",
        "\n",
        "* Shows regions of higher density and a few disconnected cells in between\n",
        "* Trajectories not visible (and not expected for PBMC data)\n",
        "* Each diffusion component extracts heterogeneity in a different part of the data\n",
        "\n",
        "**Graph**:\n",
        "\n",
        "* Shows several clusters with substructure\n",
        "* Lack of trajectories as expected\n",
        "\n",
        "The strengths and weaknesses of the visualizations can readily be identified in the above plots. While t-SNE exaggerates differences, diffusion maps exaggerate transitions. Overall UMAP and force-directed graph drawings show the best compromise of the two aspects, however UMAP is much faster to compute. UMAP has furthermore been shown to more accurately display the structure in the data."
      ]
    },
    {
      "cell_type": "markdown",
      "metadata": {
        "id": "d-s3g94V0GOd"
      },
      "source": [
        "## Cell cycle scoring"
      ]
    },
    {
      "cell_type": "markdown",
      "metadata": {
        "id": "Vftu84o20GOe"
      },
      "source": [
        "Known sources of technical variation in the data have been investigated and corrected for (e.g. batch, count depth). A known source of biological variation that can explain the data is the cell cycle. Here, gene lists from [Macosko et al., Cell 161 (2015)](https://www.sciencedirect.com/science/article/pii/S0092867415005498) is used to score the cell cycle effect in the data and classify cells by cell cycle phase. The file can be found on the [scIB github repository](https://github.com/theislab/scib/tree/master/scIB/resources/).\n",
        "\n",
        "Please note, that the gene list was generated for human HeLa cells."
      ]
    },
    {
      "cell_type": "code",
      "execution_count": null,
      "metadata": {
        "id": "1hMibIAq0GOe"
      },
      "outputs": [],
      "source": [
        "s_genes_file = data_dir + 's_genes_tirosh_hm.txt'\n",
        "g2m_genes_file = data_dir + 'g2m_genes_tirosh_hm.txt'"
      ]
    },
    {
      "cell_type": "code",
      "execution_count": null,
      "metadata": {
        "id": "O4ua1DKh0GOf"
      },
      "outputs": [],
      "source": [
        "s_genes = pd.read_table(s_genes_file, header = None).values.flatten()\n",
        "g2m_genes = pd.read_table(g2m_genes_file, header = None).values.flatten()"
      ]
    },
    {
      "cell_type": "code",
      "execution_count": null,
      "metadata": {
        "id": "rcNbxRuN0GOg"
      },
      "outputs": [],
      "source": [
        "s_genes_hvg = adata.var_names[np.in1d(adata.var_names, s_genes)]\n",
        "g2m_genes_hvg = adata.var_names[np.in1d(adata.var_names, g2m_genes)]"
      ]
    },
    {
      "cell_type": "markdown",
      "metadata": {
        "id": "WMdjyKsQ0GOg"
      },
      "source": [
        "Compute cell cycle score per batch."
      ]
    },
    {
      "cell_type": "code",
      "execution_count": null,
      "metadata": {
        "id": "jmALc5Ba0GOh"
      },
      "outputs": [],
      "source": [
        "adata.obs['S_score']= np.zeros(adata.shape[0])\n",
        "adata.obs['G2M_score'] = np.zeros(adata.shape[0])\n",
        "adata.obs['phase'] = np.zeros(adata.shape[0])"
      ]
    },
    {
      "cell_type": "code",
      "execution_count": null,
      "metadata": {
        "id": "qo0gOagt0GOh"
      },
      "outputs": [],
      "source": [
        "sc.tl.score_genes_cell_cycle(adata, s_genes=s_genes_hvg, g2m_genes=g2m_genes_hvg)"
      ]
    },
    {
      "cell_type": "code",
      "execution_count": null,
      "metadata": {
        "id": "EAb3xxEn0GOi"
      },
      "outputs": [],
      "source": [
        "print(len(s_genes_hvg))\n",
        "print(len(g2m_genes_hvg))"
      ]
    },
    {
      "cell_type": "code",
      "execution_count": null,
      "metadata": {
        "id": "UYTSyOEZ0GOi"
      },
      "outputs": [],
      "source": [
        "adata.obs['phase'].value_counts()"
      ]
    },
    {
      "cell_type": "markdown",
      "metadata": {
        "id": "7p95yMH80GOj"
      },
      "source": [
        "**Task:** Check whether MKI67 is present in the dataset and visualise the cell cycle scores."
      ]
    },
    {
      "cell_type": "code",
      "execution_count": null,
      "metadata": {
        "id": "g76oS-pO0GOj"
      },
      "outputs": [],
      "source": [
        "#hint 'MKI67' has to be in the adata.var_names"
      ]
    },
    {
      "cell_type": "code",
      "execution_count": null,
      "metadata": {
        "id": "5O8cC7Sa0GOk"
      },
      "outputs": [],
      "source": [
        "rcParams['figure.figsize']=(5,5)\n",
        "#plots"
      ]
    },
    {
      "cell_type": "markdown",
      "metadata": {
        "id": "rZhqdx5J0GOk"
      },
      "source": [
        "Apparently, all cells are assigned to the same proliferative cell cycle phase (G2M), but inspecting the interface marker MKI67 shows little evidence for proliferation. If the phase score looks suspicious, one has to adjust the threshold for assigning a certain phase. By default, a cell is G1, if both S and G2M score are negative. Otherwise, a cell is assigned to the phase where it has the highest score. Potentially, we would need to adapt the cutoffs of the classification."
      ]
    },
    {
      "cell_type": "markdown",
      "metadata": {
        "id": "y0VqMDJD0GOl"
      },
      "source": [
        "At this point of the analysis, we have reached an important milestone as we finished the pre-processing and enter the downstream analysis part. **Ideally, we don't have to revisit this part again.**"
      ]
    },
    {
      "cell_type": "markdown",
      "metadata": {
        "id": "WHSBTafE0GOl"
      },
      "source": [
        "Of note, before we save the data to file, we convert the gene expression matrix X to the sparse format to memory."
      ]
    },
    {
      "cell_type": "code",
      "execution_count": null,
      "metadata": {
        "id": "KXcPoHIF0GOo"
      },
      "outputs": [],
      "source": [
        "import scipy.sparse as sparse"
      ]
    },
    {
      "cell_type": "code",
      "execution_count": null,
      "metadata": {
        "id": "R72-Eblx0GOp"
      },
      "outputs": [],
      "source": [
        "adata.X = sparse.csr_matrix(adata.X)"
      ]
    },
    {
      "cell_type": "code",
      "execution_count": null,
      "metadata": {
        "id": "1pBjS-l10GOp"
      },
      "outputs": [],
      "source": [
        "adata.write(data_dir + 'data_processed.h5ad')"
      ]
    },
    {
      "cell_type": "markdown",
      "metadata": {
        "id": "99HM69FV0GOs"
      },
      "source": [
        "**Comment:** End of third session."
      ]
    },
    {
      "cell_type": "markdown",
      "metadata": {
        "toc-hr-collapsed": false,
        "id": "kJR_2r2E0GOs"
      },
      "source": [
        "# Downstream analysis"
      ]
    },
    {
      "cell_type": "code",
      "execution_count": null,
      "metadata": {
        "id": "YiyhD18o0GOt"
      },
      "outputs": [],
      "source": [
        "adata = sc.read(data_dir + 'data_processed.h5ad')"
      ]
    },
    {
      "cell_type": "markdown",
      "metadata": {
        "id": "jUCioGFn0GOt"
      },
      "source": [
        "## Clustering"
      ]
    },
    {
      "cell_type": "markdown",
      "metadata": {
        "id": "g1YcofqZ0GOt"
      },
      "source": [
        "Clustering is a central component of the scRNA-seq analysis pipeline. To understand the data, we must identify cell types and states present. The first step of doing so is clustering. Performing Modularity optimization by Louvain community detection on the k-nearest-neighbour graph of cells has become an established practice in scRNA-seq analysis. Thus, this is the method of choice in this tutorial as well.\n",
        "\n",
        "Here, we perform clustering at two resolutions. Investigating several resolutions allows us to select a clustering that appears to capture the main clusters in the visualization and can provide a good baseline for further subclustering of the data to identify more specific substructure.\n",
        "\n",
        "Clustering is performed on the highly variable gene data, dimensionality reduced by PCA, and embedded into a KNN graph. (see `sc.pp.pca()` and `sc.pp.neighbors()` functions used in the visualization section)."
      ]
    },
    {
      "cell_type": "markdown",
      "metadata": {
        "id": "EAcZq8T30GOu"
      },
      "source": [
        "Compute a `louvain` clustering with two different resolutions (`0.5` and `1`). Compare the clusterings in a table and visualize the clustering in an embedding. Optional: Compute a clustering with the `leiden` algorithm."
      ]
    },
    {
      "cell_type": "code",
      "execution_count": null,
      "metadata": {
        "id": "w6sprTHH0GOu"
      },
      "outputs": [],
      "source": [
        "# Perform clustering - using highly variable genes\n",
        "sc.tl.louvain(adata, resolution=1.5, key_added='louvain_r1.5')\n",
        "sc.tl.louvain(adata, resolution=0.5, key_added='louvain_r0.5')"
      ]
    },
    {
      "cell_type": "code",
      "execution_count": null,
      "metadata": {
        "id": "JFQPIOay0GOv"
      },
      "outputs": [],
      "source": [
        "pd.crosstab(adata.obs['louvain_r0.5'], adata.obs['louvain_r1.5'])"
      ]
    },
    {
      "cell_type": "code",
      "execution_count": null,
      "metadata": {
        "id": "j7M1tTR80GOw"
      },
      "outputs": [],
      "source": [
        "#Visualize the clustering and how this is reflected by different technical covariates\n",
        "sc.pl.umap(adata, color=['louvain_r1.5', 'louvain_r0.5'], wspace=0.6)\n",
        "sc.pl.umap(adata, color=['log_counts', 'mt_frac'])"
      ]
    },
    {
      "cell_type": "markdown",
      "metadata": {
        "id": "ew7QV-L20GOw"
      },
      "source": [
        "## Marker genes and cluster annotation"
      ]
    },
    {
      "cell_type": "markdown",
      "metadata": {
        "id": "xepGFPw40GOw"
      },
      "source": [
        "To annotate the clusters we obtained, we find genes that are up-regulated in the cluster compared to all other clusters (marker genes). This differential expression test is performed by a *Welch t-test with overestimated variance* to be conservative. This is the default in `scanpy`. The test is automatically performed on the `.raw` data set, which is uncorrected and contains all genes. All genes are taken into account, as any gene may be an informative marker.\n",
        "\n",
        "As we are using the relevant mouse gut atlas from the literature in this case study, there is no other reference atlas which we use to annotate the cells by automated annotation. Thus, we do not use scmap or garnett here."
      ]
    },
    {
      "cell_type": "markdown",
      "metadata": {
        "id": "HEEh-f2m0GOx"
      },
      "source": [
        "Compute the differential expression profile for each cluster with `rank_genes_groups` and visualize the results."
      ]
    },
    {
      "cell_type": "code",
      "execution_count": null,
      "metadata": {
        "id": "fYaD5zi10GOx"
      },
      "outputs": [],
      "source": [
        "#Calculate marker genes\n",
        "sc.tl.rank_genes_groups(adata, groupby='louvain_r0.5', key_added='rank_genes_r0.5')"
      ]
    },
    {
      "cell_type": "code",
      "execution_count": null,
      "metadata": {
        "id": "EBA-WP1r0GOy"
      },
      "outputs": [],
      "source": [
        "#Plot marker genes\n",
        "sc.pl.rank_genes_groups(adata, key='rank_genes_r0.5', fontsize=12)"
      ]
    },
    {
      "cell_type": "markdown",
      "metadata": {
        "id": "_diaSeEW0GOz"
      },
      "source": [
        "**Tasks:** Calculate and visualise marker genes for the louvain clustering with resolution `1.5`."
      ]
    },
    {
      "cell_type": "code",
      "execution_count": null,
      "metadata": {
        "id": "sS-fKiWT0GOz"
      },
      "outputs": [],
      "source": [
        "#Calculate marker genes\n"
      ]
    },
    {
      "cell_type": "code",
      "execution_count": null,
      "metadata": {
        "id": "ULRmqN2p0GOz"
      },
      "outputs": [],
      "source": [
        "#Plot marker genes\n"
      ]
    },
    {
      "cell_type": "markdown",
      "metadata": {
        "id": "ZjWqnAz60GO0"
      },
      "source": [
        "Here, we observe potentially characteristic gene expression patterns, but we also observe a considerable ribosomal proteins (*RPL* and *RPS*), which are part of the ribosomes. Thus, they are involved in mRNA translational processes. Usually, these genes are difficult to interpret.\n",
        "\n",
        "Furthermore, the score itself is not interpretable in terms of specificity and significance in the case of clustering, because the clusters were previously defined as a group of cells being different from the rest. Therefore, we compare a group that is a priori different to the rest and the resulting scores (or p-values) are inflated. Furthermore, the smaller a cluster is, the smaller is the observed score, unless a gene is very specific to the cluster. Typically, we may find marker genes in the gene lists of the `rank_genes_groups` test, but not all marker genes have a high expression level.\n",
        "\n",
        "When it comes to cluster annotation, we usually have to tap into prior knowledge of the cell type. Depending on the data set, this may involve extensive literature search. In the case of brain cell types, we may refer to several studies and several web resources to extract marker gene sets. Alternative approaches such as `scmap` use annotated reference data to predict the cell type identity of new data, or train a classifier based on marker genes (e.g. `Garnett`).\n"
      ]
    },
    {
      "cell_type": "markdown",
      "metadata": {
        "id": "YLBUXP7W0GO0"
      },
      "source": [
        "In the case of PBMCs, we may refer to several studies and single-cell RNA-sequencing data analysis tutorials to extract marker gene sets.\n",
        "The following list is extracted from the Seurat tutorial on PBMCs."
      ]
    },
    {
      "cell_type": "markdown",
      "metadata": {
        "id": "uudwZcWM0GO1"
      },
      "source": [
        "\n",
        "|Marker Gene|Cell Type|\n",
        "|---------|-------|\n",
        "|IL7R|CD4 T cells|\n",
        "|CD14, LYZ|CD14+ Monocytes|\n",
        "|MS4A1|B cells|\n",
        "|CD8A|CD8 T cells|\n",
        "|FCGR3A, MS4A7|FCGR3A+ Monocytes|\n",
        "|GNLY, NKG7|NK cells|\n",
        "|FCER1A, CST3|Dendritic Cells|\n",
        "|PPBP|Megakaryocytes|\n"
      ]
    },
    {
      "cell_type": "markdown",
      "metadata": {
        "id": "eiq1acuP0GO1"
      },
      "source": [
        "Let us define a list of marker genes from literature."
      ]
    },
    {
      "cell_type": "code",
      "execution_count": null,
      "metadata": {
        "id": "KvOAa5oH0GO1"
      },
      "outputs": [],
      "source": [
        "marker_genes = ['IL7R', 'CD79A', 'MS4A1', 'CD8A', 'CD8B', 'LYZ', 'CD14',\n",
        "                'LGALS3', 'S100A8', 'GNLY', 'NKG7', 'KLRB1',\n",
        "                'FCGR3A', 'MS4A7', 'FCER1A', 'CST3', 'PPBP']"
      ]
    },
    {
      "cell_type": "markdown",
      "metadata": {
        "id": "pHqdLWc-0GO2"
      },
      "source": [
        "**Tasks:** Annotate the clusters.\n",
        "Check briefly, if all marker genes are present in the dataset and visualise the marker genes in a UMAP (or another visualisation of your choice).\n",
        "You can use auxiliary plots like `matrixplot`, `dotplot`, `heatmap` or `violin` plots or coloring an embedding (e.g. UMAP, t-SNE, FA) by the marker genes."
      ]
    },
    {
      "cell_type": "markdown",
      "metadata": {
        "id": "Fpys_E3o0GO2"
      },
      "source": [
        "Let us check if the marker genes are expressed in our dataset."
      ]
    },
    {
      "cell_type": "code",
      "execution_count": null,
      "metadata": {
        "id": "_nrmTsPu0GO2"
      },
      "outputs": [],
      "source": [
        "np.in1d(marker_genes, adata.var_names)"
      ]
    },
    {
      "cell_type": "code",
      "execution_count": null,
      "metadata": {
        "id": "4ywY3O4-0GO3"
      },
      "outputs": [],
      "source": [
        "#plots"
      ]
    },
    {
      "cell_type": "code",
      "execution_count": null,
      "metadata": {
        "id": "YURuV7Kp0GO3"
      },
      "outputs": [],
      "source": [
        "sc.pl.dotplot(adata=,\n",
        "              var_names =,\n",
        "              groupby=,\n",
        "              use_raw=False)"
      ]
    },
    {
      "cell_type": "code",
      "execution_count": null,
      "metadata": {
        "id": "tH3e7Fa_0GO4"
      },
      "outputs": [],
      "source": [
        "sc.pl.heatmap(adata=, var_names=,\n",
        "              figsize=(5,10),\n",
        "              groupby=,\n",
        "              use_raw=False, vmin=0)"
      ]
    },
    {
      "cell_type": "code",
      "execution_count": null,
      "metadata": {
        "id": "3FfG9jse0GO4"
      },
      "outputs": [],
      "source": [
        "sc.pl.matrixplot(adata=, var_names=,\n",
        "                 groupby=,\n",
        "                 use_raw=False, vmin=0)"
      ]
    },
    {
      "cell_type": "code",
      "execution_count": null,
      "metadata": {
        "id": "cWblD3JK0GO5"
      },
      "outputs": [],
      "source": [
        "sc.pl.stacked_violin(adata = ,var_names = , groupby=,\n",
        "                     use_raw=False)"
      ]
    },
    {
      "cell_type": "markdown",
      "metadata": {
        "id": "ALfQxERc0GO6"
      },
      "source": [
        "Annotate clusters and create a new covariate.\n",
        "\n",
        "\n",
        "|Cluster ID|Marker Gene|Cell Type|\n",
        "|---------|-------|-------|\n",
        "||IL7R|CD4 T cells|\n",
        "||CD14, LYZ|CD14+ Monocytes|\n",
        "||MS4A1|B cells|\n",
        "||CD8A|CD8 T cells|\n",
        "||FCGR3A, MS4A7|FCGR3A+ Monocytes|\n",
        "||GNLY, NKG7|NK cells|\n",
        "||FCER1A, CST3|Dendritic Cells|\n",
        "||PPBP|Megakaryocytes|"
      ]
    },
    {
      "cell_type": "markdown",
      "metadata": {
        "id": "lzZx6s9H0GO7"
      },
      "source": [
        "Use the `pandas` data frame functionality to rename your clusters and visualize your annotation."
      ]
    },
    {
      "cell_type": "code",
      "execution_count": null,
      "metadata": {
        "id": "m1gTFwqF0GO8"
      },
      "outputs": [],
      "source": [
        "adata.obs['annotated'] = adata.obs['louvain_r1.5'].cat.add_categories(['CD4 T cells',\n",
        "                        'CD14+ Monocytes', 'B cells', 'CD8 T cells',\n",
        "                        'FCGR3A+ Monocytes', 'NK cells', 'Dendritic cells', 'Megakaryocytes'])\n",
        "\n",
        "adata.obs['annotated'][np.in1d(adata.obs['annotated'], [ #add cluster name here (as string)\n",
        "                                                            ])] = 'CD4 T cells'\n",
        "adata.obs['annotated'][np.in1d(adata.obs['annotated'], [])] = 'CD14+ Monocytes'\n",
        "adata.obs['annotated'][np.in1d(adata.obs['annotated'], [])] = 'B cells'\n",
        "adata.obs['annotated'][np.in1d(adata.obs['annotated'], [])] = 'CD8 T cells'\n",
        "adata.obs['annotated'][np.in1d(adata.obs['annotated'], [])] = 'FCGR3A+ Monocytes'\n",
        "adata.obs['annotated'][np.in1d(adata.obs['annotated'], [])] = 'NK cells'\n",
        "adata.obs['annotated'][np.in1d(adata.obs['annotated'], [])] = 'Dendritic cells'\n",
        "adata.obs['annotated'][np.in1d(adata.obs['annotated'], [])] = 'Megakaryocytes'\n",
        "\n",
        "#remove unused categories from annotation\n",
        "adata.obs['annotated'] = adata.obs['annotated'].cat.remove_unused_categories()"
      ]
    },
    {
      "cell_type": "code",
      "execution_count": null,
      "metadata": {
        "id": "DVIRnO3k0GO8"
      },
      "outputs": [],
      "source": [
        "adata.obs['annotated'].value_counts()"
      ]
    },
    {
      "cell_type": "markdown",
      "metadata": {
        "id": "eanQE5Qt0GO9"
      },
      "source": [
        "**Task:** Visualise your annotation on a UMAP as well as in a `matrixplot`, `dotplot`, `heatmap` or `violin` plots."
      ]
    },
    {
      "cell_type": "code",
      "execution_count": null,
      "metadata": {
        "id": "qbhA97-90GO9"
      },
      "outputs": [],
      "source": [
        "sc.pl.umap(adata, color='annotated', legend_loc='on data', title='', frameon=False)\n",
        "sc.pl.umap(adata, color='annotated',  title='', frameon=True)"
      ]
    },
    {
      "cell_type": "code",
      "execution_count": null,
      "metadata": {
        "id": "l4mY9NuK0GO-"
      },
      "outputs": [],
      "source": [
        "sc.pl.dotplot(adata=,\n",
        "              var_names =,\n",
        "              groupby=,\n",
        "              use_raw=False)"
      ]
    },
    {
      "cell_type": "code",
      "execution_count": null,
      "metadata": {
        "id": "NxcDT6290GO-"
      },
      "outputs": [],
      "source": [
        "sc.pl.heatmap(adata=, var_names=,\n",
        "              figsize=(5,10),\n",
        "              groupby=,\n",
        "              use_raw=False, vmin=0)"
      ]
    },
    {
      "cell_type": "code",
      "execution_count": null,
      "metadata": {
        "id": "7BTwbm8r0GO_"
      },
      "outputs": [],
      "source": [
        "sc.pl.matrixplot(adata = ,\n",
        "                 var_names = ,\n",
        "                 groupby= ,\n",
        "                 use_raw=False, vmin=0)"
      ]
    },
    {
      "cell_type": "code",
      "execution_count": null,
      "metadata": {
        "id": "GBw9Hyrg0GO_"
      },
      "outputs": [],
      "source": [
        "sc.pl.stacked_violin(adata=   ,\n",
        "                     var_names=   ,\n",
        "                     groupby=    ,\n",
        "                     use_raw=False)"
      ]
    },
    {
      "cell_type": "markdown",
      "metadata": {
        "id": "hKdktehp0GPA"
      },
      "source": [
        "### Inspect subpopulations of B cells"
      ]
    },
    {
      "cell_type": "markdown",
      "metadata": {
        "id": "sV3QDNCe0GPA"
      },
      "source": [
        "Let us determine the differences in the B cell clusters by differential expression. Subcluster the B cells first."
      ]
    },
    {
      "cell_type": "code",
      "execution_count": null,
      "metadata": {
        "id": "J_-45oRB0GPB"
      },
      "outputs": [],
      "source": [
        "sc.tl.louvain(adata, resolution=0.2, restrict_to = ['annotated',['B cells']], key_added='louvain_R')"
      ]
    },
    {
      "cell_type": "code",
      "execution_count": null,
      "metadata": {
        "id": "nvmXromX0GPB"
      },
      "outputs": [],
      "source": [
        "rcParams['figure.figsize']= (5,5)\n",
        "sc.pl.umap(adata, color='louvain_R')"
      ]
    },
    {
      "cell_type": "code",
      "execution_count": null,
      "metadata": {
        "id": "6-EALMxq0GPC"
      },
      "outputs": [],
      "source": [
        "sc.tl.rank_genes_groups(adata = adata, groupby='louvain_R', groups= ['B cells,1'], reference='B cells,0', rankby_abs=True)"
      ]
    },
    {
      "cell_type": "code",
      "execution_count": null,
      "metadata": {
        "id": "-6Kt16TJ0GPE"
      },
      "outputs": [],
      "source": [
        "rcParams['figure.figsize']=(10,5)\n",
        "sc.pl.rank_genes_groups(adata, size=10, n_genes=40)"
      ]
    },
    {
      "cell_type": "code",
      "execution_count": null,
      "metadata": {
        "id": "crNNsTrg0GPE"
      },
      "outputs": [],
      "source": [
        "sc.pl.rank_genes_groups_violin(adata, groups='B cells,1', n_genes=10, use_raw=False)"
      ]
    },
    {
      "cell_type": "markdown",
      "metadata": {
        "id": "pEcdLgOf0GPF"
      },
      "source": [
        "Here, the B cell populations differ in B cell activation markers such as TCL1A and IL4R. Interestingly, the `B cells,1` population is almost exclusively positive for the *IGKC* gene. The *IGKC* gene was found to be predictive for cancer prognosis.\n",
        "Potentially, `B cells,1` are activated B cells and `B cells,0` are resting, but we have to look at more markers to make the distinction."
      ]
    },
    {
      "cell_type": "markdown",
      "metadata": {
        "id": "nwuF7y3T0GPF"
      },
      "source": [
        "### Compute a PAGA for PBMCs"
      ]
    },
    {
      "cell_type": "markdown",
      "metadata": {
        "id": "rkB1geIR0GPG"
      },
      "source": [
        "We aim to find relations between the respective cell types based on the knn graph with partition-based graph abstraction (PAGA)."
      ]
    },
    {
      "cell_type": "markdown",
      "metadata": {
        "id": "4QWdtyWD0GPG"
      },
      "source": [
        "Compute PAGA on the cluster annotation and plot the graph (note: use the plot function `paga_compare`)."
      ]
    },
    {
      "cell_type": "code",
      "execution_count": null,
      "metadata": {
        "id": "A5jNY2tH0GPH"
      },
      "outputs": [],
      "source": [
        "sc.tl.paga(adata = adata, groups='annotated')"
      ]
    },
    {
      "cell_type": "code",
      "execution_count": null,
      "metadata": {
        "id": "cLCgEObk0GPH"
      },
      "outputs": [],
      "source": [
        "rcParams['figure.figsize']=(7,7)\n",
        "sc.pl.paga_compare(adata = adata, basis='umap', frameon=True)"
      ]
    },
    {
      "cell_type": "markdown",
      "metadata": {
        "id": "p6Q84nV00GPI"
      },
      "source": [
        "## Save annotated data to file"
      ]
    },
    {
      "cell_type": "markdown",
      "metadata": {
        "id": "mF-9Gz_m0GPI"
      },
      "source": [
        "At this point, we have finished the data annotation. This represents another milestone in the data analysis of single cell data. Once the annotation is finished, we won't have to touch this part of the analysis again.   "
      ]
    },
    {
      "cell_type": "code",
      "execution_count": null,
      "metadata": {
        "id": "dwGlE81C0GPI"
      },
      "outputs": [],
      "source": [
        "adata.write(data_dir + 'data_processed.h5ad')"
      ]
    },
    {
      "cell_type": "markdown",
      "metadata": {
        "id": "3znaAFdl0GPK"
      },
      "source": [
        "## Pseudotime on Monocytes"
      ]
    },
    {
      "cell_type": "markdown",
      "metadata": {
        "id": "3HjijZWi0GPL"
      },
      "source": [
        "In this section, we want to explore a potential transition of CD14+ and FCGR3A+ Monocytes."
      ]
    },
    {
      "cell_type": "code",
      "execution_count": null,
      "metadata": {
        "id": "BO-uJGwz0GPM"
      },
      "outputs": [],
      "source": [
        "adata = sc.read(data_dir + 'data_processed.h5ad')"
      ]
    },
    {
      "cell_type": "markdown",
      "metadata": {
        "id": "a_j7tcZ30GPM"
      },
      "source": [
        "Select the monocytes."
      ]
    },
    {
      "cell_type": "code",
      "execution_count": null,
      "metadata": {
        "id": "iFfpgNJr0GPN"
      },
      "outputs": [],
      "source": [
        "adata_mono = adata[np.in1d(adata.obs['annotated'],\n",
        "                           ['CD14+ Monocytes', 'FCGR3A+ Monocytes'])].copy()"
      ]
    },
    {
      "cell_type": "code",
      "execution_count": null,
      "metadata": {
        "id": "I7tU_cTk0GPN"
      },
      "outputs": [],
      "source": [
        "adata_mono"
      ]
    },
    {
      "cell_type": "markdown",
      "metadata": {
        "id": "vzd2zBSJ0GPO"
      },
      "source": [
        "Compute a diffusion pseudotime (DPT). Note: Fix a root cell as `adata.uns['iroot']` first. Visualize the pseudotime on the embedding. Compute the differentially expressed genes between the two subgroups and visualize the expression of 20 top differentially expressed genes along pseudotime."
      ]
    },
    {
      "cell_type": "code",
      "execution_count": null,
      "metadata": {
        "id": "pl3pukZP0GPO"
      },
      "outputs": [],
      "source": [
        "sc.tl.pca(adata_mono, svd_solver='arpack')\n",
        "sc.pp.neighbors(adata_mono)"
      ]
    },
    {
      "cell_type": "markdown",
      "metadata": {
        "id": "KslOZZd60GPP"
      },
      "source": [
        "Convert UMAP indices to arrays."
      ]
    },
    {
      "cell_type": "code",
      "execution_count": null,
      "metadata": {
        "id": "5-jay6j30GPQ"
      },
      "outputs": [],
      "source": [
        "umap_0 = [term[0] for term in adata_mono.obsm['X_umap']]\n",
        "umap_1 = [term[1] for term in adata_mono.obsm['X_umap']]"
      ]
    },
    {
      "cell_type": "markdown",
      "metadata": {
        "id": "AnOpgXf50GPQ"
      },
      "source": [
        "Set root cell to the cell with the smallest value in the first UMAP component and compute DPT."
      ]
    },
    {
      "cell_type": "code",
      "execution_count": null,
      "metadata": {
        "id": "ycYJRRde0GPR"
      },
      "outputs": [],
      "source": [
        "adata_mono.uns['iroot'] = np.flatnonzero(umap_0== max(umap_0))[0]\n",
        "sc.tl.dpt(adata = adata_mono)"
      ]
    },
    {
      "cell_type": "markdown",
      "metadata": {
        "id": "X2T9snJi0GPS"
      },
      "source": [
        "Visualise DPT on a UMAP and on a diffusion map."
      ]
    },
    {
      "cell_type": "code",
      "execution_count": null,
      "metadata": {
        "id": "Gfq91uwM0GPX"
      },
      "outputs": [],
      "source": [
        "rcParams['figure.figsize']=(7,7)\n",
        "sc.pl.umap(adata_mono, color=['dpt_pseudotime', 'annotated'])"
      ]
    },
    {
      "cell_type": "code",
      "execution_count": null,
      "metadata": {
        "id": "HoqB-R8C0GPa"
      },
      "outputs": [],
      "source": [
        "rcParams['figure.figsize']=(7,7)\n",
        "sc.pl.diffmap(adata_mono, color=['dpt_pseudotime', 'annotated'], components=['1,2'])\n",
        "sc.pl.diffmap(adata_mono, color=['dpt_pseudotime', 'annotated'], components=['1,3'])"
      ]
    },
    {
      "cell_type": "markdown",
      "metadata": {
        "id": "i-cHwVNV0GPb"
      },
      "source": [
        "Run a differential test on the two groups of monocytes in order to determine characteristic genes.  "
      ]
    },
    {
      "cell_type": "code",
      "execution_count": null,
      "metadata": {
        "id": "b2PStwTo0GPb"
      },
      "outputs": [],
      "source": [
        "sc.tl.rank_genes_groups(adata_mono, groupby='annotated',\n",
        "                        groups= ['FCGR3A+ Monocytes'], reference='CD14+ Monocytes', rankby_abs=True)"
      ]
    },
    {
      "cell_type": "code",
      "execution_count": null,
      "metadata": {
        "id": "ZIXNg9kf0GPc"
      },
      "outputs": [],
      "source": [
        "rcParams['figure.figsize']=(10,5)\n",
        "sc.pl.rank_genes_groups(adata_mono, size=10, n_genes=30)"
      ]
    },
    {
      "cell_type": "code",
      "execution_count": null,
      "metadata": {
        "id": "_s6BEUQf0GPc"
      },
      "outputs": [],
      "source": [
        "rcParams['figure.figsize']= (15,5)\n",
        "sc.pl.rank_genes_groups_violin(adata_mono, use_raw=False)"
      ]
    },
    {
      "cell_type": "code",
      "execution_count": null,
      "metadata": {
        "id": "JKgwk6vK0GPd"
      },
      "outputs": [],
      "source": [
        "mono_genes = [idx[1][0] for idx in enumerate(adata_mono.uns['rank_genes_groups']['names'])]\n"
      ]
    },
    {
      "cell_type": "markdown",
      "metadata": {
        "id": "gA9VZG2P0GPu"
      },
      "source": [
        "In order to visualise the gene expression along pseudotime, we have to compute PAGA for the two groups of monocytes."
      ]
    },
    {
      "cell_type": "code",
      "execution_count": null,
      "metadata": {
        "id": "gzUIgIUl0GPv"
      },
      "outputs": [],
      "source": [
        "sc.tl.paga(adata_mono, groups='annotated')"
      ]
    },
    {
      "cell_type": "markdown",
      "metadata": {
        "id": "T08U_Ir_0GPy"
      },
      "source": [
        "Modify the format of the data matrix, because `paga_path` takes only dense matrices (in this `scanpy` version)."
      ]
    },
    {
      "cell_type": "code",
      "execution_count": null,
      "metadata": {
        "id": "kM0w8cxl0GPz"
      },
      "outputs": [],
      "source": [
        "adata_mono.X = adata_mono.X.todense()"
      ]
    },
    {
      "cell_type": "code",
      "execution_count": null,
      "metadata": {
        "id": "8aMf5sDc0GP0"
      },
      "outputs": [],
      "source": [
        "rcParams['figure.figsize']=(20,10)\n",
        "sc.pl.paga_path(adata_mono, nodes=['FCGR3A+ Monocytes','CD14+ Monocytes'],\n",
        "                keys=mono_genes[:25],n_avg=10, use_raw=False, save='_monocyte_transition.pdf')"
      ]
    },
    {
      "cell_type": "markdown",
      "metadata": {
        "id": "UlfZ3gUP0GP0"
      },
      "source": [
        "**Comment:** End of fourth session."
      ]
    }
  ],
  "metadata": {
    "kernelspec": {
      "display_name": "Python 3",
      "name": "python3"
    },
    "language_info": {
      "codemirror_mode": {
        "name": "ipython",
        "version": 3
      },
      "file_extension": ".py",
      "mimetype": "text/x-python",
      "name": "python",
      "nbconvert_exporter": "python",
      "pygments_lexer": "ipython3",
      "version": "3.7.7"
    },
    "toc": {
      "toc_cell": false,
      "toc_number_sections": true,
      "toc_threshold": 6,
      "toc_window_display": false
    },
    "toc-autonumbering": true,
    "toc-showcode": false,
    "toc-showmarkdowntxt": false,
    "colab": {
      "provenance": [],
      "gpuType": "T4"
    },
    "accelerator": "GPU"
  },
  "nbformat": 4,
  "nbformat_minor": 0
}